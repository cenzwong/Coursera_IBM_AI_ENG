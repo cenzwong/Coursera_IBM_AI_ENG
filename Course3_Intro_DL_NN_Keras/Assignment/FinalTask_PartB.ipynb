{
 "cells": [
  {
   "cell_type": "markdown",
   "metadata": {
    "button": false,
    "new_sheet": false,
    "run_control": {
     "read_only": false
    }
   },
   "source": [
    "<h1 align=left><font size = 5>Final Assignment - Part B</font></h1>"
   ]
  },
  {
   "cell_type": "markdown",
   "metadata": {
    "button": false,
    "new_sheet": false,
    "run_control": {
     "read_only": false
    }
   },
   "source": [
    "## Import the relevant libraries for this code"
   ]
  },
  {
   "cell_type": "markdown",
   "metadata": {},
   "source": [
    "This section is used to bring in all the relevant libraries and functions needed for this assignment."
   ]
  },
  {
   "cell_type": "code",
   "execution_count": 9,
   "metadata": {},
   "outputs": [],
   "source": [
    "import pandas as pd\n",
    "import numpy as np"
   ]
  },
  {
   "cell_type": "code",
   "execution_count": 10,
   "metadata": {},
   "outputs": [],
   "source": [
    "import keras\n",
    "from keras.models import Sequential\n",
    "from keras.layers import Dense"
   ]
  },
  {
   "cell_type": "markdown",
   "metadata": {},
   "source": [
    "## Import and break down the data"
   ]
  },
  {
   "cell_type": "markdown",
   "metadata": {},
   "source": [
    "Firstly, the data set needs to be brought in.\n",
    "Note, the path given in the assignment did not work, but the path from one of the exercises did. I manually compared this data, and it is the same."
   ]
  },
  {
   "cell_type": "code",
   "execution_count": 11,
   "metadata": {},
   "outputs": [],
   "source": [
    "#concrete_data = pd.read_csv('https://cocl.us/concrete_data.csv')\n",
    "concrete_data = pd.read_csv('https://s3-api.us-geo.objectstorage.softlayer.net/cf-courses-data/CognitiveClass/DL0101EN/labs/data/concrete_data.csv')\n"
   ]
  },
  {
   "cell_type": "markdown",
   "metadata": {},
   "source": [
    "The data was then broken down into the labels and the targets."
   ]
  },
  {
   "cell_type": "code",
   "execution_count": 12,
   "metadata": {},
   "outputs": [],
   "source": [
    "y=concrete_data['Strength']\n",
    "X=concrete_data.drop(columns='Strength')\n",
    "n_cols = X.shape[1]"
   ]
  },
  {
   "cell_type": "markdown",
   "metadata": {},
   "source": [
    "Using the sklearn library, the data was first split into train/test. (Although this was not needed at this stage)"
   ]
  },
  {
   "cell_type": "code",
   "execution_count": 13,
   "metadata": {},
   "outputs": [],
   "source": [
    "from sklearn import preprocessing\n",
    "from sklearn.model_selection import train_test_split\n",
    "# X_tr, X_t, y_tr, y_t = train_test_split( X, y, test_size=0.3, random_state=4)"
   ]
  },
  {
   "cell_type": "markdown",
   "metadata": {},
   "source": [
    "## PART B: Standardise the data"
   ]
  },
  {
   "cell_type": "markdown",
   "metadata": {},
   "source": [
    "As an option (although not needed at this stage, here is a good way of standardising the data:"
   ]
  },
  {
   "cell_type": "code",
   "execution_count": 14,
   "metadata": {},
   "outputs": [
    {
     "name": "stdout",
     "output_type": "stream",
     "text": [
      "Simple reducing the mean, and dividing by the standard deviation of the cols.\n"
     ]
    }
   ],
   "source": [
    "\n",
    "#X_tr=preprocessing.StandardScaler().fit(X_tr).transform(X_tr.astype(float))\n",
    "print('Simple reducing the mean, and dividing by the standard deviation of the cols.')\n",
    "X_tr=(X - X.mean()) / X.std()\n",
    "y_tr=y"
   ]
  },
  {
   "cell_type": "markdown",
   "metadata": {},
   "source": [
    "## The function for the model"
   ]
  },
  {
   "cell_type": "markdown",
   "metadata": {},
   "source": [
    "Here, the main parameters of the model is created. This will be called back once training is done."
   ]
  },
  {
   "cell_type": "code",
   "execution_count": 15,
   "metadata": {},
   "outputs": [],
   "source": [
    "def baseline_model():\n",
    "    # define model\n",
    "    model = Sequential()\n",
    "    model.add(Dense(10, activation='relu', input_shape=(n_cols,)))\n",
    "    model.add(Dense(1))\n",
    "    \n",
    "    # compile model\n",
    "    model.compile(optimizer='adam', loss='mean_squared_error')\n",
    "    return model\n"
   ]
  },
  {
   "cell_type": "markdown",
   "metadata": {},
   "source": [
    "## Training of the model"
   ]
  },
  {
   "cell_type": "markdown",
   "metadata": {},
   "source": [
    "The model is created. Note, the verbose=2 is useful to see the full line of outputs, but this can be quite crowded.\n",
    "Consider changing to verbose = 0 to make this thing not go for ages."
   ]
  },
  {
   "cell_type": "code",
   "execution_count": 16,
   "metadata": {},
   "outputs": [
    {
     "name": "stdout",
     "output_type": "stream",
     "text": [
      "Iteration:  1  with MSE: 171.158\n",
      "Iteration:  2  with MSE: 120.890\n",
      "Iteration:  3  with MSE: 95.765\n",
      "Iteration:  6  with MSE: 56.889\n",
      "Iteration:  7  with MSE: 51.804\n",
      "Iteration:  8  with MSE: 49.493\n",
      "Iteration:  9  with MSE: 47.446\n",
      "Iteration: 10  with MSE: 45.744\n",
      "Iteration: 11  with MSE: 44.489\n",
      "Iteration: 12  with MSE: 43.653\n",
      "Iteration: 13  with MSE: 43.439\n",
      "Iteration: 14  with MSE: 43.583\n",
      "Iteration: 15  with MSE: 43.671\n",
      "Iteration: 16  with MSE: 43.610\n",
      "Iteration: 17  with MSE: 44.173\n",
      "Iteration: 18  with MSE: 44.104\n",
      "Iteration: 19  with MSE: 44.385\n",
      "Iteration: 20  with MSE: 44.489\n",
      "Iteration: 21  with MSE: 44.326\n",
      "Iteration: 22  with MSE: 44.765\n",
      "Iteration: 23  with MSE: 44.445\n",
      "Iteration: 24  with MSE: 44.489\n",
      "Iteration: 25  with MSE: 44.682\n",
      "Iteration: 26  with MSE: 44.790\n",
      "Iteration: 27  with MSE: 44.765\n",
      "Iteration: 28  with MSE: 44.244\n",
      "Iteration: 29  with MSE: 44.486\n",
      "Iteration: 30  with MSE: 44.328\n",
      "Iteration: 31  with MSE: 44.270\n",
      "Iteration: 32  with MSE: 44.104\n",
      "Iteration: 33  with MSE: 44.041\n",
      "Iteration: 34  with MSE: 43.909\n",
      "Iteration: 35  with MSE: 43.832\n",
      "Iteration: 36  with MSE: 44.034\n",
      "Iteration: 37  with MSE: 44.015\n",
      "Iteration: 38  with MSE: 44.009\n",
      "Iteration: 39  with MSE: 43.938\n",
      "Iteration: 40  with MSE: 44.493\n",
      "Iteration: 41  with MSE: 44.720\n",
      "Iteration: 42  with MSE: 45.053\n",
      "Iteration: 43  with MSE: 45.282\n",
      "Iteration: 44  with MSE: 45.162\n",
      "Iteration: 45  with MSE: 45.624\n",
      "Iteration: 46  with MSE: 45.891\n",
      "Iteration: 47  with MSE: 46.232\n",
      "Iteration: 48  with MSE: 46.592\n",
      "Iteration: 49  with MSE: 47.182\n",
      "Iteration: 50  with MSE: 47.431\n"
     ]
    }
   ],
   "source": [
    "model = baseline_model()\n",
    "A=model.fit(X_tr,y_tr,validation_split=0.3, epochs=50, verbose=0)\n",
    "\n",
    "out_loss=np.zeros(50)\n",
    "loss_agg_norm = np.array([])\n",
    "\n",
    "for i in range(1,51):\n",
    "    A=model.fit(X_tr,y_tr,validation_split=0.3, epochs=50, verbose=0)\n",
    "    mse_loss = model.evaluate(X_tr, y_tr, verbose=0)\n",
    "    print(\"Iteration: %2.0f\" % i, \" with MSE: %.3f\" % mse_loss)\n",
    "    out_loss[i-1]=mse_loss\n",
    "    \n"
   ]
  },
  {
   "cell_type": "markdown",
   "metadata": {},
   "source": [
    "Once the model has been fit, it can be analised through its history:"
   ]
  },
  {
   "cell_type": "code",
   "execution_count": 17,
   "metadata": {},
   "outputs": [],
   "source": [
    "mean_A=np.mean(out_loss)\n",
    "stdev_A=np.std(out_loss)"
   ]
  },
  {
   "cell_type": "markdown",
   "metadata": {},
   "source": [
    "\n",
    "\n",
    "\n",
    "\n",
    "\n",
    "\n",
    "\n",
    "\n",
    "\n",
    "\n",
    "\n",
    "For a better understanding of what the history of the training did, here is a plot:"
   ]
  },
  {
   "cell_type": "code",
   "execution_count": 18,
   "metadata": {},
   "outputs": [
    {
     "data": {
      "text/plain": [
       "<matplotlib.legend.Legend at 0x7fbacc71d2e8>"
      ]
     },
     "execution_count": 18,
     "metadata": {},
     "output_type": "execute_result"
    },
    {
     "data": {
      "image/png": "[encoded data removed]",
      "text/plain": [
       "<Figure size 432x288 with 1 Axes>"
      ]
     },
     "metadata": {
      "needs_background": "light"
     },
     "output_type": "display_data"
    }
   ],
   "source": [
    "import matplotlib.pyplot as plt\n",
    "%matplotlib inline\n",
    "plt.plot(range(1,51),out_loss,'r')\n",
    "plt.plot([1, 51],[mean_A, mean_A],'b')\n",
    "plt.fill_between([1, 51],[mean_A-1*stdev_A, mean_A-1*stdev_A],[mean_A+1*stdev_A, mean_A+1*stdev_A], alpha=0.10)\n",
    "plt.legend(('Losses','Mean of Loasses', '+/- 1xStd of Losses'))"
   ]
  },
  {
   "cell_type": "markdown",
   "metadata": {},
   "source": [
    "## Conclusion"
   ]
  },
  {
   "cell_type": "markdown",
   "metadata": {},
   "source": [
    "It is clear that the standardisation of the label variables has had a clear positive impact on the measured losses.\n",
    "Although the average is lower, because the first few iterations had a rather large amount of noise, the standard deviation is a little larger\n",
    "It is clear that the majority of the losses are below average (it was skewed by the beginning).\n",
    "\n",
    "The final results are:"
   ]
  },
  {
   "cell_type": "code",
   "execution_count": 19,
   "metadata": {},
   "outputs": [
    {
     "name": "stdout",
     "output_type": "stream",
     "text": [
      "The mean of the mean squared errors is: : 51.42\n",
      "The standard deviation of the mean squared errors is: : 21.98\n"
     ]
    }
   ],
   "source": [
    "print(\"The mean of the mean squared errors is: : %.2f\" % mean_A)\n",
    "print(\"The standard deviation of the mean squared errors is: : %.2f\" % stdev_A)"
   ]
  },
  {
   "cell_type": "code",
   "execution_count": null,
   "metadata": {},
   "outputs": [],
   "source": []
  },
  {
   "cell_type": "code",
   "execution_count": null,
   "metadata": {},
   "outputs": [],
   "source": []
  }
 ],
 "metadata": {
  "kernelspec": {
   "display_name": "Python",
   "language": "python",
   "name": "conda-env-python-py"
  },
  "language_info": {
   "codemirror_mode": {
    "name": "ipython",
    "version": 3
   },
   "file_extension": ".py",
   "mimetype": "text/x-python",
   "name": "python",
   "nbconvert_exporter": "python",
   "pygments_lexer": "ipython3",
   "version": "3.6.10"
  }
 },
 "nbformat": 4,
 "nbformat_minor": 4
}
