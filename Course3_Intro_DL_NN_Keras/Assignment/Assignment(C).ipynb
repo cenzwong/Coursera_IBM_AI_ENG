{
 "cells": [
  {
   "cell_type": "markdown",
   "metadata": {},
   "source": [
    "# Coursera assignment: Build a Regression Model in Keras"
   ]
  },
  {
   "cell_type": "markdown",
   "metadata": {},
   "source": [
    "## C. Increase the number of epochs (5 marks)\n",
    "\n",
    "Repeat Part B but use 100 epochs this time for training."
   ]
  },
  {
   "cell_type": "markdown",
   "metadata": {},
   "source": [
    "### Program Start"
   ]
  },
  {
   "cell_type": "markdown",
   "metadata": {},
   "source": [
    "The predictors in the data of concrete strength include:\n",
    "\n",
    "- Cement\n",
    "- Blast Furnace Slag\n",
    "- Fly Ash\n",
    "- Water\n",
    "- Superplasticizer\n",
    "- Coarse Aggregate\n",
    "- Fine Aggregate\n",
    "\n",
    "Get the CSV file online"
   ]
  },
  {
   "cell_type": "code",
   "execution_count": 1,
   "metadata": {},
   "outputs": [
    {
     "name": "stdout",
     "output_type": "stream",
     "text": [
      "--2020-04-09 04:16:00--  https://cocl.us/concrete_data\n",
      "Resolving cocl.us (cocl.us)... 158.85.108.83, 169.48.113.194, 158.85.108.86\n",
      "Connecting to cocl.us (cocl.us)|158.85.108.83|:443... connected.\n",
      "HTTP request sent, awaiting response... 301 Moved Permanently\n",
      "Location: https://s3-api.us-geo.objectstorage.softlayer.net/cf-courses-data/CognitiveClass/DL0101EN/labs/data/concrete_data.csv [following]\n",
      "--2020-04-09 04:16:03--  https://s3-api.us-geo.objectstorage.softlayer.net/cf-courses-data/CognitiveClass/DL0101EN/labs/data/concrete_data.csv\n",
      "Resolving s3-api.us-geo.objectstorage.softlayer.net (s3-api.us-geo.objectstorage.softlayer.net)... 67.228.254.196\n",
      "Connecting to s3-api.us-geo.objectstorage.softlayer.net (s3-api.us-geo.objectstorage.softlayer.net)|67.228.254.196|:443... connected.\n",
      "HTTP request sent, awaiting response... 200 OK\n",
      "Length: 58988 (58K) [text/csv]\n",
      "Saving to: ‘concrete_data.csv’\n",
      "\n",
      "concrete_data.csv   100%[===================>]  57.61K  --.-KB/s    in 0.04s   \n",
      "\n",
      "2020-04-09 04:16:03 (1.31 MB/s) - ‘concrete_data.csv’ saved [58988/58988]\n",
      "\n"
     ]
    }
   ],
   "source": [
    "!wget -O concrete_data.csv https://cocl.us/concrete_data"
   ]
  },
  {
   "cell_type": "code",
   "execution_count": 2,
   "metadata": {
    "button": false,
    "new_sheet": false,
    "run_control": {
     "read_only": false
    }
   },
   "outputs": [],
   "source": [
    "import pandas as pd\n",
    "import numpy as np"
   ]
  },
  {
   "cell_type": "code",
   "execution_count": 3,
   "metadata": {},
   "outputs": [
    {
     "name": "stdout",
     "output_type": "stream",
     "text": [
      "The shape is (1030, 9)\n"
     ]
    },
    {
     "data": {
      "text/html": [
       "<div>\n",
       "<style scoped>\n",
       "    .dataframe tbody tr th:only-of-type {\n",
       "        vertical-align: middle;\n",
       "    }\n",
       "\n",
       "    .dataframe tbody tr th {\n",
       "        vertical-align: top;\n",
       "    }\n",
       "\n",
       "    .dataframe thead th {\n",
       "        text-align: right;\n",
       "    }\n",
       "</style>\n",
       "<table border=\"1\" class=\"dataframe\">\n",
       "  <thead>\n",
       "    <tr style=\"text-align: right;\">\n",
       "      <th></th>\n",
       "      <th>Cement</th>\n",
       "      <th>Blast Furnace Slag</th>\n",
       "      <th>Fly Ash</th>\n",
       "      <th>Water</th>\n",
       "      <th>Superplasticizer</th>\n",
       "      <th>Coarse Aggregate</th>\n",
       "      <th>Fine Aggregate</th>\n",
       "      <th>Age</th>\n",
       "      <th>Strength</th>\n",
       "    </tr>\n",
       "  </thead>\n",
       "  <tbody>\n",
       "    <tr>\n",
       "      <th>0</th>\n",
       "      <td>540.0</td>\n",
       "      <td>0.0</td>\n",
       "      <td>0.0</td>\n",
       "      <td>162.0</td>\n",
       "      <td>2.5</td>\n",
       "      <td>1040.0</td>\n",
       "      <td>676.0</td>\n",
       "      <td>28</td>\n",
       "      <td>79.99</td>\n",
       "    </tr>\n",
       "    <tr>\n",
       "      <th>1</th>\n",
       "      <td>540.0</td>\n",
       "      <td>0.0</td>\n",
       "      <td>0.0</td>\n",
       "      <td>162.0</td>\n",
       "      <td>2.5</td>\n",
       "      <td>1055.0</td>\n",
       "      <td>676.0</td>\n",
       "      <td>28</td>\n",
       "      <td>61.89</td>\n",
       "    </tr>\n",
       "    <tr>\n",
       "      <th>2</th>\n",
       "      <td>332.5</td>\n",
       "      <td>142.5</td>\n",
       "      <td>0.0</td>\n",
       "      <td>228.0</td>\n",
       "      <td>0.0</td>\n",
       "      <td>932.0</td>\n",
       "      <td>594.0</td>\n",
       "      <td>270</td>\n",
       "      <td>40.27</td>\n",
       "    </tr>\n",
       "    <tr>\n",
       "      <th>3</th>\n",
       "      <td>332.5</td>\n",
       "      <td>142.5</td>\n",
       "      <td>0.0</td>\n",
       "      <td>228.0</td>\n",
       "      <td>0.0</td>\n",
       "      <td>932.0</td>\n",
       "      <td>594.0</td>\n",
       "      <td>365</td>\n",
       "      <td>41.05</td>\n",
       "    </tr>\n",
       "    <tr>\n",
       "      <th>4</th>\n",
       "      <td>198.6</td>\n",
       "      <td>132.4</td>\n",
       "      <td>0.0</td>\n",
       "      <td>192.0</td>\n",
       "      <td>0.0</td>\n",
       "      <td>978.4</td>\n",
       "      <td>825.5</td>\n",
       "      <td>360</td>\n",
       "      <td>44.30</td>\n",
       "    </tr>\n",
       "  </tbody>\n",
       "</table>\n",
       "</div>"
      ],
      "text/plain": [
       "   Cement  Blast Furnace Slag  Fly Ash  Water  Superplasticizer  \\\n",
       "0   540.0                 0.0      0.0  162.0               2.5   \n",
       "1   540.0                 0.0      0.0  162.0               2.5   \n",
       "2   332.5               142.5      0.0  228.0               0.0   \n",
       "3   332.5               142.5      0.0  228.0               0.0   \n",
       "4   198.6               132.4      0.0  192.0               0.0   \n",
       "\n",
       "   Coarse Aggregate  Fine Aggregate  Age  Strength  \n",
       "0            1040.0           676.0   28     79.99  \n",
       "1            1055.0           676.0   28     61.89  \n",
       "2             932.0           594.0  270     40.27  \n",
       "3             932.0           594.0  365     41.05  \n",
       "4             978.4           825.5  360     44.30  "
      ]
     },
     "execution_count": 3,
     "metadata": {},
     "output_type": "execute_result"
    }
   ],
   "source": [
    "df_concrete_data = pd.read_csv('concrete_data.csv')\n",
    "print(\"The shape is\" , df_concrete_data.shape)\n",
    "df_concrete_data.head()"
   ]
  },
  {
   "cell_type": "code",
   "execution_count": 4,
   "metadata": {},
   "outputs": [
    {
     "data": {
      "text/html": [
       "<div>\n",
       "<style scoped>\n",
       "    .dataframe tbody tr th:only-of-type {\n",
       "        vertical-align: middle;\n",
       "    }\n",
       "\n",
       "    .dataframe tbody tr th {\n",
       "        vertical-align: top;\n",
       "    }\n",
       "\n",
       "    .dataframe thead th {\n",
       "        text-align: right;\n",
       "    }\n",
       "</style>\n",
       "<table border=\"1\" class=\"dataframe\">\n",
       "  <thead>\n",
       "    <tr style=\"text-align: right;\">\n",
       "      <th></th>\n",
       "      <th>Cement</th>\n",
       "      <th>Blast Furnace Slag</th>\n",
       "      <th>Fly Ash</th>\n",
       "      <th>Water</th>\n",
       "      <th>Superplasticizer</th>\n",
       "      <th>Coarse Aggregate</th>\n",
       "      <th>Fine Aggregate</th>\n",
       "      <th>Age</th>\n",
       "      <th>Strength</th>\n",
       "    </tr>\n",
       "  </thead>\n",
       "  <tbody>\n",
       "    <tr>\n",
       "      <th>count</th>\n",
       "      <td>1030.000000</td>\n",
       "      <td>1030.000000</td>\n",
       "      <td>1030.000000</td>\n",
       "      <td>1030.000000</td>\n",
       "      <td>1030.000000</td>\n",
       "      <td>1030.000000</td>\n",
       "      <td>1030.000000</td>\n",
       "      <td>1030.000000</td>\n",
       "      <td>1030.000000</td>\n",
       "    </tr>\n",
       "    <tr>\n",
       "      <th>mean</th>\n",
       "      <td>281.167864</td>\n",
       "      <td>73.895825</td>\n",
       "      <td>54.188350</td>\n",
       "      <td>181.567282</td>\n",
       "      <td>6.204660</td>\n",
       "      <td>972.918932</td>\n",
       "      <td>773.580485</td>\n",
       "      <td>45.662136</td>\n",
       "      <td>35.817961</td>\n",
       "    </tr>\n",
       "    <tr>\n",
       "      <th>std</th>\n",
       "      <td>104.506364</td>\n",
       "      <td>86.279342</td>\n",
       "      <td>63.997004</td>\n",
       "      <td>21.354219</td>\n",
       "      <td>5.973841</td>\n",
       "      <td>77.753954</td>\n",
       "      <td>80.175980</td>\n",
       "      <td>63.169912</td>\n",
       "      <td>16.705742</td>\n",
       "    </tr>\n",
       "    <tr>\n",
       "      <th>min</th>\n",
       "      <td>102.000000</td>\n",
       "      <td>0.000000</td>\n",
       "      <td>0.000000</td>\n",
       "      <td>121.800000</td>\n",
       "      <td>0.000000</td>\n",
       "      <td>801.000000</td>\n",
       "      <td>594.000000</td>\n",
       "      <td>1.000000</td>\n",
       "      <td>2.330000</td>\n",
       "    </tr>\n",
       "    <tr>\n",
       "      <th>25%</th>\n",
       "      <td>192.375000</td>\n",
       "      <td>0.000000</td>\n",
       "      <td>0.000000</td>\n",
       "      <td>164.900000</td>\n",
       "      <td>0.000000</td>\n",
       "      <td>932.000000</td>\n",
       "      <td>730.950000</td>\n",
       "      <td>7.000000</td>\n",
       "      <td>23.710000</td>\n",
       "    </tr>\n",
       "    <tr>\n",
       "      <th>50%</th>\n",
       "      <td>272.900000</td>\n",
       "      <td>22.000000</td>\n",
       "      <td>0.000000</td>\n",
       "      <td>185.000000</td>\n",
       "      <td>6.400000</td>\n",
       "      <td>968.000000</td>\n",
       "      <td>779.500000</td>\n",
       "      <td>28.000000</td>\n",
       "      <td>34.445000</td>\n",
       "    </tr>\n",
       "    <tr>\n",
       "      <th>75%</th>\n",
       "      <td>350.000000</td>\n",
       "      <td>142.950000</td>\n",
       "      <td>118.300000</td>\n",
       "      <td>192.000000</td>\n",
       "      <td>10.200000</td>\n",
       "      <td>1029.400000</td>\n",
       "      <td>824.000000</td>\n",
       "      <td>56.000000</td>\n",
       "      <td>46.135000</td>\n",
       "    </tr>\n",
       "    <tr>\n",
       "      <th>max</th>\n",
       "      <td>540.000000</td>\n",
       "      <td>359.400000</td>\n",
       "      <td>200.100000</td>\n",
       "      <td>247.000000</td>\n",
       "      <td>32.200000</td>\n",
       "      <td>1145.000000</td>\n",
       "      <td>992.600000</td>\n",
       "      <td>365.000000</td>\n",
       "      <td>82.600000</td>\n",
       "    </tr>\n",
       "  </tbody>\n",
       "</table>\n",
       "</div>"
      ],
      "text/plain": [
       "            Cement  Blast Furnace Slag      Fly Ash        Water  \\\n",
       "count  1030.000000         1030.000000  1030.000000  1030.000000   \n",
       "mean    281.167864           73.895825    54.188350   181.567282   \n",
       "std     104.506364           86.279342    63.997004    21.354219   \n",
       "min     102.000000            0.000000     0.000000   121.800000   \n",
       "25%     192.375000            0.000000     0.000000   164.900000   \n",
       "50%     272.900000           22.000000     0.000000   185.000000   \n",
       "75%     350.000000          142.950000   118.300000   192.000000   \n",
       "max     540.000000          359.400000   200.100000   247.000000   \n",
       "\n",
       "       Superplasticizer  Coarse Aggregate  Fine Aggregate          Age  \\\n",
       "count       1030.000000       1030.000000     1030.000000  1030.000000   \n",
       "mean           6.204660        972.918932      773.580485    45.662136   \n",
       "std            5.973841         77.753954       80.175980    63.169912   \n",
       "min            0.000000        801.000000      594.000000     1.000000   \n",
       "25%            0.000000        932.000000      730.950000     7.000000   \n",
       "50%            6.400000        968.000000      779.500000    28.000000   \n",
       "75%           10.200000       1029.400000      824.000000    56.000000   \n",
       "max           32.200000       1145.000000      992.600000   365.000000   \n",
       "\n",
       "          Strength  \n",
       "count  1030.000000  \n",
       "mean     35.817961  \n",
       "std      16.705742  \n",
       "min       2.330000  \n",
       "25%      23.710000  \n",
       "50%      34.445000  \n",
       "75%      46.135000  \n",
       "max      82.600000  "
      ]
     },
     "execution_count": 4,
     "metadata": {},
     "output_type": "execute_result"
    }
   ],
   "source": [
    "df_concrete_data.describe()"
   ]
  },
  {
   "cell_type": "code",
   "execution_count": 5,
   "metadata": {},
   "outputs": [
    {
     "data": {
      "text/plain": [
       "Cement                0\n",
       "Blast Furnace Slag    0\n",
       "Fly Ash               0\n",
       "Water                 0\n",
       "Superplasticizer      0\n",
       "Coarse Aggregate      0\n",
       "Fine Aggregate        0\n",
       "Age                   0\n",
       "Strength              0\n",
       "dtype: int64"
      ]
     },
     "execution_count": 5,
     "metadata": {},
     "output_type": "execute_result"
    }
   ],
   "source": [
    "# always check the null data entry\n",
    "df_concrete_data.isnull().sum()"
   ]
  },
  {
   "cell_type": "markdown",
   "metadata": {},
   "source": [
    "The dataframe is good to go"
   ]
  },
  {
   "cell_type": "markdown",
   "metadata": {},
   "source": [
    "## Split data into Predictor and Target"
   ]
  },
  {
   "cell_type": "code",
   "execution_count": 6,
   "metadata": {},
   "outputs": [],
   "source": [
    "concrete_data_columns = df_concrete_data.columns\n",
    "\n",
    "df_predictor = df_concrete_data[concrete_data_columns[concrete_data_columns != 'Strength']] # all columns except Strength\n",
    "df_target = df_concrete_data['Strength'] # Strength column"
   ]
  },
  {
   "cell_type": "code",
   "execution_count": 7,
   "metadata": {},
   "outputs": [
    {
     "data": {
      "text/html": [
       "<div>\n",
       "<style scoped>\n",
       "    .dataframe tbody tr th:only-of-type {\n",
       "        vertical-align: middle;\n",
       "    }\n",
       "\n",
       "    .dataframe tbody tr th {\n",
       "        vertical-align: top;\n",
       "    }\n",
       "\n",
       "    .dataframe thead th {\n",
       "        text-align: right;\n",
       "    }\n",
       "</style>\n",
       "<table border=\"1\" class=\"dataframe\">\n",
       "  <thead>\n",
       "    <tr style=\"text-align: right;\">\n",
       "      <th></th>\n",
       "      <th>Cement</th>\n",
       "      <th>Blast Furnace Slag</th>\n",
       "      <th>Fly Ash</th>\n",
       "      <th>Water</th>\n",
       "      <th>Superplasticizer</th>\n",
       "      <th>Coarse Aggregate</th>\n",
       "      <th>Fine Aggregate</th>\n",
       "      <th>Age</th>\n",
       "    </tr>\n",
       "  </thead>\n",
       "  <tbody>\n",
       "    <tr>\n",
       "      <th>0</th>\n",
       "      <td>540.0</td>\n",
       "      <td>0.0</td>\n",
       "      <td>0.0</td>\n",
       "      <td>162.0</td>\n",
       "      <td>2.5</td>\n",
       "      <td>1040.0</td>\n",
       "      <td>676.0</td>\n",
       "      <td>28</td>\n",
       "    </tr>\n",
       "    <tr>\n",
       "      <th>1</th>\n",
       "      <td>540.0</td>\n",
       "      <td>0.0</td>\n",
       "      <td>0.0</td>\n",
       "      <td>162.0</td>\n",
       "      <td>2.5</td>\n",
       "      <td>1055.0</td>\n",
       "      <td>676.0</td>\n",
       "      <td>28</td>\n",
       "    </tr>\n",
       "    <tr>\n",
       "      <th>2</th>\n",
       "      <td>332.5</td>\n",
       "      <td>142.5</td>\n",
       "      <td>0.0</td>\n",
       "      <td>228.0</td>\n",
       "      <td>0.0</td>\n",
       "      <td>932.0</td>\n",
       "      <td>594.0</td>\n",
       "      <td>270</td>\n",
       "    </tr>\n",
       "    <tr>\n",
       "      <th>3</th>\n",
       "      <td>332.5</td>\n",
       "      <td>142.5</td>\n",
       "      <td>0.0</td>\n",
       "      <td>228.0</td>\n",
       "      <td>0.0</td>\n",
       "      <td>932.0</td>\n",
       "      <td>594.0</td>\n",
       "      <td>365</td>\n",
       "    </tr>\n",
       "    <tr>\n",
       "      <th>4</th>\n",
       "      <td>198.6</td>\n",
       "      <td>132.4</td>\n",
       "      <td>0.0</td>\n",
       "      <td>192.0</td>\n",
       "      <td>0.0</td>\n",
       "      <td>978.4</td>\n",
       "      <td>825.5</td>\n",
       "      <td>360</td>\n",
       "    </tr>\n",
       "  </tbody>\n",
       "</table>\n",
       "</div>"
      ],
      "text/plain": [
       "   Cement  Blast Furnace Slag  Fly Ash  Water  Superplasticizer  \\\n",
       "0   540.0                 0.0      0.0  162.0               2.5   \n",
       "1   540.0                 0.0      0.0  162.0               2.5   \n",
       "2   332.5               142.5      0.0  228.0               0.0   \n",
       "3   332.5               142.5      0.0  228.0               0.0   \n",
       "4   198.6               132.4      0.0  192.0               0.0   \n",
       "\n",
       "   Coarse Aggregate  Fine Aggregate  Age  \n",
       "0            1040.0           676.0   28  \n",
       "1            1055.0           676.0   28  \n",
       "2             932.0           594.0  270  \n",
       "3             932.0           594.0  365  \n",
       "4             978.4           825.5  360  "
      ]
     },
     "execution_count": 7,
     "metadata": {},
     "output_type": "execute_result"
    }
   ],
   "source": [
    "df_predictor.head()"
   ]
  },
  {
   "cell_type": "code",
   "execution_count": 8,
   "metadata": {},
   "outputs": [
    {
     "data": {
      "text/plain": [
       "0    79.99\n",
       "1    61.89\n",
       "2    40.27\n",
       "3    41.05\n",
       "4    44.30\n",
       "Name: Strength, dtype: float64"
      ]
     },
     "execution_count": 8,
     "metadata": {},
     "output_type": "execute_result"
    }
   ],
   "source": [
    "df_target.head()"
   ]
  },
  {
   "cell_type": "code",
   "execution_count": 9,
   "metadata": {},
   "outputs": [
    {
     "name": "stdout",
     "output_type": "stream",
     "text": [
      "The shape of the predictor is (1030, 8)\n",
      "Input shape: 8\n"
     ]
    }
   ],
   "source": [
    "print(\"The shape of the predictor is\", df_predictor.shape)\n",
    "\n",
    "n_cols = df_predictor.shape[1] # number of predictors\n",
    "print(\"Input shape:\", n_cols)"
   ]
  },
  {
   "cell_type": "markdown",
   "metadata": {},
   "source": [
    "## Normalize Data **(B)"
   ]
  },
  {
   "cell_type": "code",
   "execution_count": 10,
   "metadata": {},
   "outputs": [
    {
     "data": {
      "text/html": [
       "<div>\n",
       "<style scoped>\n",
       "    .dataframe tbody tr th:only-of-type {\n",
       "        vertical-align: middle;\n",
       "    }\n",
       "\n",
       "    .dataframe tbody tr th {\n",
       "        vertical-align: top;\n",
       "    }\n",
       "\n",
       "    .dataframe thead th {\n",
       "        text-align: right;\n",
       "    }\n",
       "</style>\n",
       "<table border=\"1\" class=\"dataframe\">\n",
       "  <thead>\n",
       "    <tr style=\"text-align: right;\">\n",
       "      <th></th>\n",
       "      <th>Cement</th>\n",
       "      <th>Blast Furnace Slag</th>\n",
       "      <th>Fly Ash</th>\n",
       "      <th>Water</th>\n",
       "      <th>Superplasticizer</th>\n",
       "      <th>Coarse Aggregate</th>\n",
       "      <th>Fine Aggregate</th>\n",
       "      <th>Age</th>\n",
       "    </tr>\n",
       "  </thead>\n",
       "  <tbody>\n",
       "    <tr>\n",
       "      <th>0</th>\n",
       "      <td>2.476712</td>\n",
       "      <td>-0.856472</td>\n",
       "      <td>-0.846733</td>\n",
       "      <td>-0.916319</td>\n",
       "      <td>-0.620147</td>\n",
       "      <td>0.862735</td>\n",
       "      <td>-1.217079</td>\n",
       "      <td>-0.279597</td>\n",
       "    </tr>\n",
       "    <tr>\n",
       "      <th>1</th>\n",
       "      <td>2.476712</td>\n",
       "      <td>-0.856472</td>\n",
       "      <td>-0.846733</td>\n",
       "      <td>-0.916319</td>\n",
       "      <td>-0.620147</td>\n",
       "      <td>1.055651</td>\n",
       "      <td>-1.217079</td>\n",
       "      <td>-0.279597</td>\n",
       "    </tr>\n",
       "    <tr>\n",
       "      <th>2</th>\n",
       "      <td>0.491187</td>\n",
       "      <td>0.795140</td>\n",
       "      <td>-0.846733</td>\n",
       "      <td>2.174405</td>\n",
       "      <td>-1.038638</td>\n",
       "      <td>-0.526262</td>\n",
       "      <td>-2.239829</td>\n",
       "      <td>3.551340</td>\n",
       "    </tr>\n",
       "    <tr>\n",
       "      <th>3</th>\n",
       "      <td>0.491187</td>\n",
       "      <td>0.795140</td>\n",
       "      <td>-0.846733</td>\n",
       "      <td>2.174405</td>\n",
       "      <td>-1.038638</td>\n",
       "      <td>-0.526262</td>\n",
       "      <td>-2.239829</td>\n",
       "      <td>5.055221</td>\n",
       "    </tr>\n",
       "    <tr>\n",
       "      <th>4</th>\n",
       "      <td>-0.790075</td>\n",
       "      <td>0.678079</td>\n",
       "      <td>-0.846733</td>\n",
       "      <td>0.488555</td>\n",
       "      <td>-1.038638</td>\n",
       "      <td>0.070492</td>\n",
       "      <td>0.647569</td>\n",
       "      <td>4.976069</td>\n",
       "    </tr>\n",
       "  </tbody>\n",
       "</table>\n",
       "</div>"
      ],
      "text/plain": [
       "     Cement  Blast Furnace Slag   Fly Ash     Water  Superplasticizer  \\\n",
       "0  2.476712           -0.856472 -0.846733 -0.916319         -0.620147   \n",
       "1  2.476712           -0.856472 -0.846733 -0.916319         -0.620147   \n",
       "2  0.491187            0.795140 -0.846733  2.174405         -1.038638   \n",
       "3  0.491187            0.795140 -0.846733  2.174405         -1.038638   \n",
       "4 -0.790075            0.678079 -0.846733  0.488555         -1.038638   \n",
       "\n",
       "   Coarse Aggregate  Fine Aggregate       Age  \n",
       "0          0.862735       -1.217079 -0.279597  \n",
       "1          1.055651       -1.217079 -0.279597  \n",
       "2         -0.526262       -2.239829  3.551340  \n",
       "3         -0.526262       -2.239829  5.055221  \n",
       "4          0.070492        0.647569  4.976069  "
      ]
     },
     "execution_count": 10,
     "metadata": {},
     "output_type": "execute_result"
    }
   ],
   "source": [
    "df_predictor_norm = (df_predictor - df_predictor.mean()) / df_predictor.std()\n",
    "df_predictor_norm.head()"
   ]
  },
  {
   "cell_type": "code",
   "execution_count": 11,
   "metadata": {},
   "outputs": [
    {
     "data": {
      "text/plain": [
       "0    2.644123\n",
       "1    1.560663\n",
       "2    0.266498\n",
       "3    0.313188\n",
       "4    0.507732\n",
       "Name: Strength, dtype: float64"
      ]
     },
     "execution_count": 11,
     "metadata": {},
     "output_type": "execute_result"
    }
   ],
   "source": [
    "df_target_norm = (df_target - df_target.mean()) / df_target.std()\n",
    "df_target_norm.head()"
   ]
  },
  {
   "cell_type": "markdown",
   "metadata": {},
   "source": [
    "## Build model using Keras"
   ]
  },
  {
   "cell_type": "code",
   "execution_count": 12,
   "metadata": {},
   "outputs": [
    {
     "name": "stderr",
     "output_type": "stream",
     "text": [
      "Using TensorFlow backend.\n",
      "/home/jupyterlab/conda/envs/python/lib/python3.6/site-packages/tensorflow/python/framework/dtypes.py:519: FutureWarning: Passing (type, 1) or '1type' as a synonym of type is deprecated; in a future version of numpy, it will be understood as (type, (1,)) / '(1,)type'.\n",
      "  _np_qint8 = np.dtype([(\"qint8\", np.int8, 1)])\n",
      "/home/jupyterlab/conda/envs/python/lib/python3.6/site-packages/tensorflow/python/framework/dtypes.py:520: FutureWarning: Passing (type, 1) or '1type' as a synonym of type is deprecated; in a future version of numpy, it will be understood as (type, (1,)) / '(1,)type'.\n",
      "  _np_quint8 = np.dtype([(\"quint8\", np.uint8, 1)])\n",
      "/home/jupyterlab/conda/envs/python/lib/python3.6/site-packages/tensorflow/python/framework/dtypes.py:521: FutureWarning: Passing (type, 1) or '1type' as a synonym of type is deprecated; in a future version of numpy, it will be understood as (type, (1,)) / '(1,)type'.\n",
      "  _np_qint16 = np.dtype([(\"qint16\", np.int16, 1)])\n",
      "/home/jupyterlab/conda/envs/python/lib/python3.6/site-packages/tensorflow/python/framework/dtypes.py:522: FutureWarning: Passing (type, 1) or '1type' as a synonym of type is deprecated; in a future version of numpy, it will be understood as (type, (1,)) / '(1,)type'.\n",
      "  _np_quint16 = np.dtype([(\"quint16\", np.uint16, 1)])\n",
      "/home/jupyterlab/conda/envs/python/lib/python3.6/site-packages/tensorflow/python/framework/dtypes.py:523: FutureWarning: Passing (type, 1) or '1type' as a synonym of type is deprecated; in a future version of numpy, it will be understood as (type, (1,)) / '(1,)type'.\n",
      "  _np_qint32 = np.dtype([(\"qint32\", np.int32, 1)])\n",
      "/home/jupyterlab/conda/envs/python/lib/python3.6/site-packages/tensorflow/python/framework/dtypes.py:528: FutureWarning: Passing (type, 1) or '1type' as a synonym of type is deprecated; in a future version of numpy, it will be understood as (type, (1,)) / '(1,)type'.\n",
      "  np_resource = np.dtype([(\"resource\", np.ubyte, 1)])\n"
     ]
    }
   ],
   "source": [
    "import keras\n",
    "from keras.models import Sequential\n",
    "from keras.layers import Dense"
   ]
  },
  {
   "cell_type": "code",
   "execution_count": 13,
   "metadata": {},
   "outputs": [],
   "source": [
    "# define a regression model\n",
    "\n",
    "def regression_model():\n",
    "    # create model\n",
    "    model = Sequential()\n",
    "    model.add(Dense(10, activation='relu', input_shape=(n_cols,)))\n",
    "    model.add(Dense(1))\n",
    "    \n",
    "    # compile model\n",
    "    model.compile(optimizer='adam', loss='mean_squared_error')\n",
    "    return model"
   ]
  },
  {
   "cell_type": "markdown",
   "metadata": {},
   "source": [
    "## Train Test Split (holding 30% of the data for testing)"
   ]
  },
  {
   "cell_type": "code",
   "execution_count": 14,
   "metadata": {},
   "outputs": [
    {
     "name": "stdout",
     "output_type": "stream",
     "text": [
      "# of test samples : 309\n",
      "# of training samples: 721\n"
     ]
    }
   ],
   "source": [
    "from sklearn.model_selection import train_test_split\n",
    "X_train, X_test, y_train, y_test = train_test_split(df_predictor_norm, df_target_norm, test_size=0.3, random_state=42)\n",
    "\n",
    "print(\"# of test samples :\", X_test.shape[0])\n",
    "print(\"# of training samples:\",X_train.shape[0])"
   ]
  },
  {
   "cell_type": "markdown",
   "metadata": {},
   "source": [
    "## Train Model"
   ]
  },
  {
   "cell_type": "code",
   "execution_count": 15,
   "metadata": {},
   "outputs": [
    {
     "name": "stdout",
     "output_type": "stream",
     "text": [
      "_________________________________________________________________\n",
      "Layer (type)                 Output Shape              Param #   \n",
      "=================================================================\n",
      "dense_1 (Dense)              (None, 10)                90        \n",
      "_________________________________________________________________\n",
      "dense_2 (Dense)              (None, 1)                 11        \n",
      "=================================================================\n",
      "Total params: 101\n",
      "Trainable params: 101\n",
      "Non-trainable params: 0\n",
      "_________________________________________________________________\n"
     ]
    }
   ],
   "source": [
    "# build the model\n",
    "model = regression_model()\n",
    "model.summary()"
   ]
  },
  {
   "cell_type": "code",
   "execution_count": 16,
   "metadata": {},
   "outputs": [
    {
     "name": "stdout",
     "output_type": "stream",
     "text": [
      "Epoch 1/100\n",
      "721/721 [==============================] - 0s 685us/step - loss: 1.3034\n",
      "Epoch 2/100\n",
      "721/721 [==============================] - 0s 302us/step - loss: 1.1262\n",
      "Epoch 3/100\n",
      "721/721 [==============================] - 0s 304us/step - loss: 1.0014\n",
      "Epoch 4/100\n",
      "721/721 [==============================] - 0s 305us/step - loss: 0.9056\n",
      "Epoch 5/100\n",
      "721/721 [==============================] - 0s 386us/step - loss: 0.8314\n",
      "Epoch 6/100\n",
      "721/721 [==============================] - 0s 307us/step - loss: 0.7685\n",
      "Epoch 7/100\n",
      "721/721 [==============================] - 0s 333us/step - loss: 0.7155\n",
      "Epoch 8/100\n",
      "721/721 [==============================] - 0s 303us/step - loss: 0.6713\n",
      "Epoch 9/100\n",
      "721/721 [==============================] - 0s 328us/step - loss: 0.6340\n",
      "Epoch 10/100\n",
      "721/721 [==============================] - 1s 726us/step - loss: 0.6029\n",
      "Epoch 11/100\n",
      "721/721 [==============================] - 0s 309us/step - loss: 0.5754\n",
      "Epoch 12/100\n",
      "721/721 [==============================] - 0s 330us/step - loss: 0.5522\n",
      "Epoch 13/100\n",
      "721/721 [==============================] - 0s 301us/step - loss: 0.5322\n",
      "Epoch 14/100\n",
      "721/721 [==============================] - 0s 307us/step - loss: 0.5165\n",
      "Epoch 15/100\n",
      "721/721 [==============================] - 0s 358us/step - loss: 0.5006\n",
      "Epoch 16/100\n",
      "721/721 [==============================] - 0s 308us/step - loss: 0.4864\n",
      "Epoch 17/100\n",
      "721/721 [==============================] - 0s 296us/step - loss: 0.4732\n",
      "Epoch 18/100\n",
      "721/721 [==============================] - 0s 304us/step - loss: 0.4612\n",
      "Epoch 19/100\n",
      "721/721 [==============================] - 0s 387us/step - loss: 0.4511\n",
      "Epoch 20/100\n",
      "721/721 [==============================] - 0s 471us/step - loss: 0.4410\n",
      "Epoch 21/100\n",
      "721/721 [==============================] - 0s 414us/step - loss: 0.4325\n",
      "Epoch 22/100\n",
      "721/721 [==============================] - 0s 446us/step - loss: 0.4229\n",
      "Epoch 23/100\n",
      "721/721 [==============================] - 0s 493us/step - loss: 0.4138\n",
      "Epoch 24/100\n",
      "721/721 [==============================] - 0s 472us/step - loss: 0.4066 0s - loss: 0\n",
      "Epoch 25/100\n",
      "721/721 [==============================] - 0s 502us/step - loss: 0.3985\n",
      "Epoch 26/100\n",
      "721/721 [==============================] - 0s 502us/step - loss: 0.3917\n",
      "Epoch 27/100\n",
      "721/721 [==============================] - 0s 420us/step - loss: 0.3855\n",
      "Epoch 28/100\n",
      "721/721 [==============================] - 0s 332us/step - loss: 0.3771\n",
      "Epoch 29/100\n",
      "721/721 [==============================] - 0s 303us/step - loss: 0.3718\n",
      "Epoch 30/100\n",
      "721/721 [==============================] - 0s 304us/step - loss: 0.3658\n",
      "Epoch 31/100\n",
      "721/721 [==============================] - 0s 305us/step - loss: 0.3590\n",
      "Epoch 32/100\n",
      "721/721 [==============================] - 0s 277us/step - loss: 0.3525\n",
      "Epoch 33/100\n",
      "721/721 [==============================] - 0s 306us/step - loss: 0.3466\n",
      "Epoch 34/100\n",
      "721/721 [==============================] - 0s 276us/step - loss: 0.3404\n",
      "Epoch 35/100\n",
      "721/721 [==============================] - 0s 355us/step - loss: 0.3338 0s - loss: 0.3\n",
      "Epoch 36/100\n",
      "721/721 [==============================] - 0s 276us/step - loss: 0.3281\n",
      "Epoch 37/100\n",
      "721/721 [==============================] - 0s 360us/step - loss: 0.3217\n",
      "Epoch 38/100\n",
      "721/721 [==============================] - 0s 304us/step - loss: 0.3161\n",
      "Epoch 39/100\n",
      "721/721 [==============================] - 0s 279us/step - loss: 0.3102\n",
      "Epoch 40/100\n",
      "721/721 [==============================] - 0s 303us/step - loss: 0.3049\n",
      "Epoch 41/100\n",
      "721/721 [==============================] - 0s 329us/step - loss: 0.2997\n",
      "Epoch 42/100\n",
      "721/721 [==============================] - 0s 303us/step - loss: 0.2952\n",
      "Epoch 43/100\n",
      "721/721 [==============================] - 0s 305us/step - loss: 0.2915\n",
      "Epoch 44/100\n",
      "721/721 [==============================] - 0s 332us/step - loss: 0.2848\n",
      "Epoch 45/100\n",
      "721/721 [==============================] - 0s 307us/step - loss: 0.2805\n",
      "Epoch 46/100\n",
      "721/721 [==============================] - 0s 304us/step - loss: 0.2761\n",
      "Epoch 47/100\n",
      "721/721 [==============================] - 0s 307us/step - loss: 0.2713\n",
      "Epoch 48/100\n",
      "721/721 [==============================] - 0s 332us/step - loss: 0.2674\n",
      "Epoch 49/100\n",
      "721/721 [==============================] - 0s 356us/step - loss: 0.2637\n",
      "Epoch 50/100\n",
      "721/721 [==============================] - 0s 278us/step - loss: 0.2592\n",
      "Epoch 51/100\n",
      "721/721 [==============================] - 0s 279us/step - loss: 0.2557\n",
      "Epoch 52/100\n",
      "721/721 [==============================] - 0s 299us/step - loss: 0.2522\n",
      "Epoch 53/100\n",
      "721/721 [==============================] - 0s 304us/step - loss: 0.2481\n",
      "Epoch 54/100\n",
      "721/721 [==============================] - 0s 252us/step - loss: 0.2447\n",
      "Epoch 55/100\n",
      "721/721 [==============================] - 0s 309us/step - loss: 0.2408\n",
      "Epoch 56/100\n",
      "721/721 [==============================] - 0s 300us/step - loss: 0.2375\n",
      "Epoch 57/100\n",
      "721/721 [==============================] - 0s 494us/step - loss: 0.2339\n",
      "Epoch 58/100\n",
      "721/721 [==============================] - 0s 305us/step - loss: 0.2303\n",
      "Epoch 59/100\n",
      "721/721 [==============================] - 0s 356us/step - loss: 0.2270\n",
      "Epoch 60/100\n",
      "721/721 [==============================] - 0s 279us/step - loss: 0.2244\n",
      "Epoch 61/100\n",
      "721/721 [==============================] - 0s 335us/step - loss: 0.2210\n",
      "Epoch 62/100\n",
      "721/721 [==============================] - 0s 353us/step - loss: 0.2179\n",
      "Epoch 63/100\n",
      "721/721 [==============================] - 0s 304us/step - loss: 0.2152\n",
      "Epoch 64/100\n",
      "721/721 [==============================] - 0s 339us/step - loss: 0.2124\n",
      "Epoch 65/100\n",
      "721/721 [==============================] - 0s 324us/step - loss: 0.2104\n",
      "Epoch 66/100\n",
      "721/721 [==============================] - 0s 332us/step - loss: 0.2071\n",
      "Epoch 67/100\n",
      "721/721 [==============================] - 0s 358us/step - loss: 0.2039\n",
      "Epoch 68/100\n",
      "721/721 [==============================] - 0s 306us/step - loss: 0.2012\n",
      "Epoch 69/100\n",
      "721/721 [==============================] - 0s 304us/step - loss: 0.1994\n",
      "Epoch 70/100\n",
      "721/721 [==============================] - 0s 357us/step - loss: 0.1967\n",
      "Epoch 71/100\n",
      "721/721 [==============================] - 0s 310us/step - loss: 0.1942\n",
      "Epoch 72/100\n",
      "721/721 [==============================] - 0s 339us/step - loss: 0.1915\n",
      "Epoch 73/100\n",
      "721/721 [==============================] - 0s 334us/step - loss: 0.1891\n",
      "Epoch 74/100\n",
      "721/721 [==============================] - 0s 329us/step - loss: 0.1867\n",
      "Epoch 75/100\n",
      "721/721 [==============================] - 0s 332us/step - loss: 0.1852\n",
      "Epoch 76/100\n",
      "721/721 [==============================] - 0s 335us/step - loss: 0.1838\n",
      "Epoch 77/100\n",
      "721/721 [==============================] - 0s 668us/step - loss: 0.1812\n",
      "Epoch 78/100\n",
      "721/721 [==============================] - 0s 307us/step - loss: 0.1793\n",
      "Epoch 79/100\n",
      "721/721 [==============================] - 0s 326us/step - loss: 0.1776\n",
      "Epoch 80/100\n",
      "721/721 [==============================] - 0s 332us/step - loss: 0.1761\n",
      "Epoch 81/100\n",
      "721/721 [==============================] - 0s 336us/step - loss: 0.1749\n",
      "Epoch 82/100\n",
      "721/721 [==============================] - 0s 303us/step - loss: 0.1726\n",
      "Epoch 83/100\n",
      "721/721 [==============================] - 0s 307us/step - loss: 0.1711\n",
      "Epoch 84/100\n",
      "721/721 [==============================] - 0s 380us/step - loss: 0.1693\n",
      "Epoch 85/100\n",
      "721/721 [==============================] - 0s 279us/step - loss: 0.1676\n",
      "Epoch 86/100\n",
      "721/721 [==============================] - 0s 302us/step - loss: 0.1670\n",
      "Epoch 87/100\n",
      "721/721 [==============================] - 0s 304us/step - loss: 0.1657\n",
      "Epoch 88/100\n",
      "721/721 [==============================] - 0s 280us/step - loss: 0.1637\n",
      "Epoch 89/100\n",
      "721/721 [==============================] - 0s 327us/step - loss: 0.1626\n",
      "Epoch 90/100\n",
      "721/721 [==============================] - 0s 306us/step - loss: 0.1614\n",
      "Epoch 91/100\n",
      "721/721 [==============================] - 0s 307us/step - loss: 0.1601\n",
      "Epoch 92/100\n",
      "721/721 [==============================] - 0s 305us/step - loss: 0.1585\n",
      "Epoch 93/100\n",
      "721/721 [==============================] - 0s 306us/step - loss: 0.1575\n",
      "Epoch 94/100\n",
      "721/721 [==============================] - 0s 332us/step - loss: 0.1563\n",
      "Epoch 95/100\n",
      "721/721 [==============================] - 0s 304us/step - loss: 0.1554\n",
      "Epoch 96/100\n",
      "721/721 [==============================] - 0s 329us/step - loss: 0.1546\n",
      "Epoch 97/100\n",
      "721/721 [==============================] - 0s 306us/step - loss: 0.1535\n",
      "Epoch 98/100\n",
      "721/721 [==============================] - 0s 305us/step - loss: 0.1530\n",
      "Epoch 99/100\n",
      "721/721 [==============================] - 0s 531us/step - loss: 0.1516\n",
      "Epoch 100/100\n",
      "721/721 [==============================] - 0s 439us/step - loss: 0.1512\n"
     ]
    },
    {
     "data": {
      "text/plain": [
       "<keras.callbacks.History at 0x7fb7bcac2898>"
      ]
     },
     "execution_count": 16,
     "metadata": {},
     "output_type": "execute_result"
    }
   ],
   "source": [
    "# Train the model with 50 epochs (fit)\n",
    "epochs = 100\n",
    "model.fit(X_train, y_train, epochs=epochs, verbose=1)"
   ]
  },
  {
   "cell_type": "markdown",
   "metadata": {},
   "source": [
    "## Evaluate The Model"
   ]
  },
  {
   "cell_type": "code",
   "execution_count": 17,
   "metadata": {},
   "outputs": [
    {
     "name": "stdout",
     "output_type": "stream",
     "text": [
      "309/309 [==============================] - 0s 257us/step\n"
     ]
    },
    {
     "data": {
      "text/plain": [
       "0.1765887595013893"
      ]
     },
     "execution_count": 17,
     "metadata": {},
     "output_type": "execute_result"
    }
   ],
   "source": [
    "scores = model.evaluate(X_test, y_test)\n",
    "# loss_val = model.evaluate(X_test, y_test, verbose=0) # to show the intermediate stage\n",
    "y_pred = model.predict(X_test)\n",
    " \n",
    "scores"
   ]
  },
  {
   "cell_type": "markdown",
   "metadata": {},
   "source": [
    "## Compute the mean squared error"
   ]
  },
  {
   "cell_type": "code",
   "execution_count": 18,
   "metadata": {},
   "outputs": [
    {
     "name": "stdout",
     "output_type": "stream",
     "text": [
      "0.17658876294644205 0.0\n"
     ]
    }
   ],
   "source": [
    "from sklearn.metrics import mean_squared_error\n",
    "\n",
    "mean_square_error = mean_squared_error(y_test, y_pred)\n",
    "mean = np.mean(mean_square_error)\n",
    "standard_deviation = np.std(mean_square_error)\n",
    "print(mean, standard_deviation)"
   ]
  },
  {
   "cell_type": "markdown",
   "metadata": {},
   "source": [
    "## Repeat steps 1 - 3, 50 times, i.e., create a list of 50 mean squared errors."
   ]
  },
  {
   "cell_type": "code",
   "execution_count": 19,
   "metadata": {},
   "outputs": [
    {
     "name": "stdout",
     "output_type": "stream",
     "text": [
      "Mean Squared Errors 1: 0.14248161442264384\n",
      "Mean Squared Errors 2: 0.15981919219578739\n",
      "Mean Squared Errors 3: 0.11738175968714902\n",
      "Mean Squared Errors 4: 0.12590750740859116\n",
      "Mean Squared Errors 5: 0.12227540774252808\n",
      "Mean Squared Errors 6: 0.13284162472945588\n",
      "Mean Squared Errors 7: 0.13574560145729953\n",
      "Mean Squared Errors 8: 0.1053193275693165\n",
      "Mean Squared Errors 9: 0.1206268871197037\n",
      "Mean Squared Errors 10: 0.11917433697236009\n",
      "Mean Squared Errors 11: 0.11202004325235546\n",
      "Mean Squared Errors 12: 0.10221850655032592\n",
      "Mean Squared Errors 13: 0.1279196222960756\n",
      "Mean Squared Errors 14: 0.1322337057694648\n",
      "Mean Squared Errors 15: 0.10241149831261835\n",
      "Mean Squared Errors 16: 0.09170340464531797\n",
      "Mean Squared Errors 17: 0.10672458473436269\n",
      "Mean Squared Errors 18: 0.1122388373638434\n",
      "Mean Squared Errors 19: 0.11171177429867409\n",
      "Mean Squared Errors 20: 0.10635533005384952\n",
      "Mean Squared Errors 21: 0.10948647399550503\n",
      "Mean Squared Errors 22: 0.10831614402891362\n",
      "Mean Squared Errors 23: 0.09112055652735689\n",
      "Mean Squared Errors 24: 0.10611197593528476\n",
      "Mean Squared Errors 25: 0.11856678246390859\n",
      "Mean Squared Errors 26: 0.1188059660416205\n",
      "Mean Squared Errors 27: 0.09695516984825381\n",
      "Mean Squared Errors 28: 0.0942370184368686\n",
      "Mean Squared Errors 29: 0.12500638488234053\n",
      "Mean Squared Errors 30: 0.1253442430573374\n",
      "Mean Squared Errors 31: 0.10316499843470102\n",
      "Mean Squared Errors 32: 0.09941214503883158\n",
      "Mean Squared Errors 33: 0.10236749559351542\n",
      "Mean Squared Errors 34: 0.11023842680801466\n",
      "Mean Squared Errors 35: 0.11167680759067289\n",
      "Mean Squared Errors 36: 0.12283424490574495\n",
      "Mean Squared Errors 37: 0.09987558592050592\n",
      "Mean Squared Errors 38: 0.1183763170512363\n",
      "Mean Squared Errors 39: 0.10252294564034947\n",
      "Mean Squared Errors 40: 0.09762046633221956\n",
      "Mean Squared Errors 41: 0.12234913350405431\n",
      "Mean Squared Errors 42: 0.09461808725468164\n",
      "Mean Squared Errors 43: 0.1084122543003181\n",
      "Mean Squared Errors 44: 0.12012933479157852\n",
      "Mean Squared Errors 45: 0.11995675465435658\n",
      "Mean Squared Errors 46: 0.10515246682568276\n",
      "Mean Squared Errors 47: 0.11332482897637346\n",
      "Mean Squared Errors 48: 0.10897832520571342\n",
      "Mean Squared Errors 49: 0.1132993987463053\n",
      "Mean Squared Errors 50: 0.12418188632113263\n"
     ]
    }
   ],
   "source": [
    "epochs = 50\n",
    "\n",
    "total_mean_squared_errors = 50\n",
    "mean_squared_errors = []\n",
    "\n",
    "for i in range(0, total_mean_squared_errors):\n",
    "    X_train, X_test, y_train, y_test = train_test_split(df_predictor_norm, df_target_norm, test_size=0.3, random_state=i)\n",
    "    model.fit(X_train, y_train, epochs=epochs, verbose=0)\n",
    "    MSE = model.evaluate(X_test, y_test, verbose=0)\n",
    "    print(\"Mean Squared Errors \"+str(i+1)+\": \"+str(MSE))\n",
    "    y_pred = model.predict(X_test)\n",
    "    mean_square_error = mean_squared_error(y_test, y_pred)\n",
    "    mean_squared_errors.append(mean_square_error)\n"
   ]
  },
  {
   "cell_type": "markdown",
   "metadata": {},
   "source": [
    "## Report the mean and the standard deviation of the mean squared errors."
   ]
  },
  {
   "cell_type": "code",
   "execution_count": 20,
   "metadata": {},
   "outputs": [
    {
     "name": "stdout",
     "output_type": "stream",
     "text": [
      "Mean: 0.11359106536646882\n",
      "Standard Deviation: 0.013469030106533315\n"
     ]
    }
   ],
   "source": [
    "mean_squared_errors = np.array(mean_squared_errors)\n",
    "mean = np.mean(mean_squared_errors)\n",
    "standard_deviation = np.std(mean_squared_errors)\n",
    "\n",
    "print(\"Mean: \"+str(mean))\n",
    "print(\"Standard Deviation: \"+str(standard_deviation))"
   ]
  },
  {
   "cell_type": "code",
   "execution_count": null,
   "metadata": {},
   "outputs": [],
   "source": []
  }
 ],
 "metadata": {
  "kernelspec": {
   "display_name": "Python",
   "language": "python",
   "name": "conda-env-python-py"
  },
  "language_info": {
   "codemirror_mode": {
    "name": "ipython",
    "version": 3
   },
   "file_extension": ".py",
   "mimetype": "text/x-python",
   "name": "python",
   "nbconvert_exporter": "python",
   "pygments_lexer": "ipython3",
   "version": "3.6.10"
  }
 },
 "nbformat": 4,
 "nbformat_minor": 4
}
