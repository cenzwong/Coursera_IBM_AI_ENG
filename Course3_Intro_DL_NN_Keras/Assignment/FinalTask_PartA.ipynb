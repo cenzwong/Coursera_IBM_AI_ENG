{
 "cells": [
  {
   "cell_type": "markdown",
   "metadata": {
    "button": false,
    "new_sheet": false,
    "run_control": {
     "read_only": false
    }
   },
   "source": [
    "<h1 align=left><font size = 5>Final Assignment - Part A</font></h1>"
   ]
  },
  {
   "cell_type": "markdown",
   "metadata": {
    "button": false,
    "new_sheet": false,
    "run_control": {
     "read_only": false
    }
   },
   "source": [
    "## Import the relevant libraries for this code"
   ]
  },
  {
   "cell_type": "markdown",
   "metadata": {},
   "source": [
    "This section is used to bring in all the relevant libraries and functions needed for this assignment."
   ]
  },
  {
   "cell_type": "code",
   "execution_count": 1,
   "metadata": {},
   "outputs": [],
   "source": [
    "import pandas as pd\n",
    "import numpy as np"
   ]
  },
  {
   "cell_type": "code",
   "execution_count": 2,
   "metadata": {},
   "outputs": [
    {
     "name": "stderr",
     "output_type": "stream",
     "text": [
      "Using TensorFlow backend.\n",
      "/home/jupyterlab/conda/envs/python/lib/python3.6/site-packages/tensorflow/python/framework/dtypes.py:519: FutureWarning: Passing (type, 1) or '1type' as a synonym of type is deprecated; in a future version of numpy, it will be understood as (type, (1,)) / '(1,)type'.\n",
      "  _np_qint8 = np.dtype([(\"qint8\", np.int8, 1)])\n",
      "/home/jupyterlab/conda/envs/python/lib/python3.6/site-packages/tensorflow/python/framework/dtypes.py:520: FutureWarning: Passing (type, 1) or '1type' as a synonym of type is deprecated; in a future version of numpy, it will be understood as (type, (1,)) / '(1,)type'.\n",
      "  _np_quint8 = np.dtype([(\"quint8\", np.uint8, 1)])\n",
      "/home/jupyterlab/conda/envs/python/lib/python3.6/site-packages/tensorflow/python/framework/dtypes.py:521: FutureWarning: Passing (type, 1) or '1type' as a synonym of type is deprecated; in a future version of numpy, it will be understood as (type, (1,)) / '(1,)type'.\n",
      "  _np_qint16 = np.dtype([(\"qint16\", np.int16, 1)])\n",
      "/home/jupyterlab/conda/envs/python/lib/python3.6/site-packages/tensorflow/python/framework/dtypes.py:522: FutureWarning: Passing (type, 1) or '1type' as a synonym of type is deprecated; in a future version of numpy, it will be understood as (type, (1,)) / '(1,)type'.\n",
      "  _np_quint16 = np.dtype([(\"quint16\", np.uint16, 1)])\n",
      "/home/jupyterlab/conda/envs/python/lib/python3.6/site-packages/tensorflow/python/framework/dtypes.py:523: FutureWarning: Passing (type, 1) or '1type' as a synonym of type is deprecated; in a future version of numpy, it will be understood as (type, (1,)) / '(1,)type'.\n",
      "  _np_qint32 = np.dtype([(\"qint32\", np.int32, 1)])\n",
      "/home/jupyterlab/conda/envs/python/lib/python3.6/site-packages/tensorflow/python/framework/dtypes.py:528: FutureWarning: Passing (type, 1) or '1type' as a synonym of type is deprecated; in a future version of numpy, it will be understood as (type, (1,)) / '(1,)type'.\n",
      "  np_resource = np.dtype([(\"resource\", np.ubyte, 1)])\n"
     ]
    }
   ],
   "source": [
    "import keras\n",
    "from keras.models import Sequential\n",
    "from keras.layers import Dense"
   ]
  },
  {
   "cell_type": "markdown",
   "metadata": {},
   "source": [
    "## Import and break down the data"
   ]
  },
  {
   "cell_type": "markdown",
   "metadata": {},
   "source": [
    "Firstly, the data set needs to be brought in.\n",
    "Note, the path given in the assignment did not work, but the path from one of the exercises did. I manually compared this data, and it is the same."
   ]
  },
  {
   "cell_type": "code",
   "execution_count": 3,
   "metadata": {},
   "outputs": [],
   "source": [
    "#concrete_data = pd.read_csv('https://cocl.us/concrete_data.csv')\n",
    "concrete_data = pd.read_csv('https://s3-api.us-geo.objectstorage.softlayer.net/cf-courses-data/CognitiveClass/DL0101EN/labs/data/concrete_data.csv')\n"
   ]
  },
  {
   "cell_type": "markdown",
   "metadata": {},
   "source": [
    "The data was then broken down into the labels and the targets."
   ]
  },
  {
   "cell_type": "code",
   "execution_count": 4,
   "metadata": {},
   "outputs": [],
   "source": [
    "y=concrete_data['Strength']\n",
    "X=concrete_data.drop(columns='Strength')\n",
    "n_cols = X.shape[1]"
   ]
  },
  {
   "cell_type": "markdown",
   "metadata": {},
   "source": [
    "Using the sklearn library, the data was first split into train/test. (Although this was not needed at this stage)"
   ]
  },
  {
   "cell_type": "code",
   "execution_count": 5,
   "metadata": {},
   "outputs": [],
   "source": [
    "from sklearn import preprocessing\n",
    "from sklearn.model_selection import train_test_split\n",
    "# X_tr, X_t, y_tr, y_t = train_test_split( X, y, test_size=0.3, random_state=4)"
   ]
  },
  {
   "cell_type": "markdown",
   "metadata": {},
   "source": [
    "In the future, we might consider standardising the data at this stage. Realistically, it should happen after the data is split between train/test."
   ]
  },
  {
   "cell_type": "code",
   "execution_count": 6,
   "metadata": {},
   "outputs": [
    {
     "name": "stdout",
     "output_type": "stream",
     "text": [
      "No standadisation was done in this part\n"
     ]
    }
   ],
   "source": [
    "\n",
    "#X_tr=preprocessing.StandardScaler().fit(X_tr).transform(X_tr.astype(float))\n",
    "print('No standadisation was done in this part')\n",
    "X_tr=X\n",
    "y_tr=y"
   ]
  },
  {
   "cell_type": "markdown",
   "metadata": {},
   "source": [
    "## The function for the model"
   ]
  },
  {
   "cell_type": "markdown",
   "metadata": {},
   "source": [
    "Here, the main parameters of the model is created. This will be called back once training is done."
   ]
  },
  {
   "cell_type": "code",
   "execution_count": 7,
   "metadata": {},
   "outputs": [],
   "source": [
    "def baseline_model():\n",
    "    # define model\n",
    "    model = Sequential()\n",
    "    model.add(Dense(10, activation='relu', input_shape=(n_cols,)))\n",
    "    model.add(Dense(1))\n",
    "    \n",
    "    # compile model\n",
    "    model.compile(optimizer='adam', loss='mean_squared_error')\n",
    "    return model\n"
   ]
  },
  {
   "cell_type": "markdown",
   "metadata": {},
   "source": [
    "## Training of the model"
   ]
  },
  {
   "cell_type": "markdown",
   "metadata": {},
   "source": [
    "The model is created. Note, the verbose=2 is useful to see the full line of outputs, but this can be quite crowded.\n",
    "Consider changing to verbose = 0 to make this thing not go for ages."
   ]
  },
  {
   "cell_type": "code",
   "execution_count": 8,
   "metadata": {},
   "outputs": [
    {
     "name": "stdout",
     "output_type": "stream",
     "text": [
      "Iteration:  1  with MSE: 64.430\n",
      "Iteration:  2  with MSE: 58.348\n",
      "Iteration:  3  with MSE: 56.620\n",
      "Iteration:  4  with MSE: 58.420\n",
      "Iteration:  5  with MSE: 55.913\n",
      "Iteration:  6  with MSE: 56.449\n",
      "Iteration:  7  with MSE: 65.366\n",
      "Iteration:  8  with MSE: 55.553\n",
      "Iteration:  9  with MSE: 61.303\n",
      "Iteration: 10  with MSE: 55.165\n",
      "Iteration: 11  with MSE: 54.999\n",
      "Iteration: 12  with MSE: 55.675\n",
      "Iteration: 13  with MSE: 57.194\n",
      "Iteration: 14  with MSE: 57.339\n",
      "Iteration: 15  with MSE: 56.081\n",
      "Iteration: 16  with MSE: 62.383\n",
      "Iteration: 17  with MSE: 56.612\n",
      "Iteration: 18  with MSE: 55.659\n",
      "Iteration: 19  with MSE: 57.039\n",
      "Iteration: 20  with MSE: 57.440\n",
      "Iteration: 21  with MSE: 56.613\n",
      "Iteration: 22  with MSE: 56.767\n",
      "Iteration: 23  with MSE: 65.306\n",
      "Iteration: 24  with MSE: 56.942\n",
      "Iteration: 25  with MSE: 55.104\n",
      "Iteration: 26  with MSE: 56.686\n",
      "Iteration: 27  with MSE: 58.480\n",
      "Iteration: 28  with MSE: 63.969\n",
      "Iteration: 29  with MSE: 56.589\n",
      "Iteration: 30  with MSE: 58.725\n",
      "Iteration: 31  with MSE: 61.356\n",
      "Iteration: 32  with MSE: 57.404\n",
      "Iteration: 33  with MSE: 59.894\n",
      "Iteration: 34  with MSE: 62.902\n",
      "Iteration: 35  with MSE: 64.761\n",
      "Iteration: 36  with MSE: 65.325\n",
      "Iteration: 37  with MSE: 62.754\n",
      "Iteration: 38  with MSE: 60.031\n",
      "Iteration: 39  with MSE: 67.115\n",
      "Iteration: 40  with MSE: 58.882\n",
      "Iteration: 41  with MSE: 60.604\n",
      "Iteration: 42  with MSE: 60.377\n",
      "Iteration: 43  with MSE: 62.709\n",
      "Iteration: 44  with MSE: 60.055\n",
      "Iteration: 45  with MSE: 61.464\n",
      "Iteration: 46  with MSE: 62.350\n",
      "Iteration: 47  with MSE: 64.382\n",
      "Iteration: 48  with MSE: 60.165\n",
      "Iteration: 49  with MSE: 61.270\n",
      "Iteration: 50  with MSE: 60.522\n"
     ]
    }
   ],
   "source": [
    "model = baseline_model()\n",
    "A=model.fit(X_tr,y_tr,validation_split=0.3, epochs=50, verbose=0)\n",
    "\n",
    "out_loss=np.zeros(50)\n",
    "loss_agg_norm = np.array([])\n",
    "\n",
    "for i in range(1,51):\n",
    "    A=model.fit(X_tr,y_tr,validation_split=0.3, epochs=50, verbose=0)\n",
    "    mse_loss = model.evaluate(X_tr, y_tr, verbose=0)\n",
    "    print(\"Iteration: %2.0f\" % i, \" with MSE: %.3f\" % mse_loss)\n",
    "    out_loss[i-1]=mse_loss\n",
    "    \n"
   ]
  },
  {
   "cell_type": "markdown",
   "metadata": {},
   "source": [
    "Once the model has been fit, it can be analised through its history:"
   ]
  },
  {
   "cell_type": "code",
   "execution_count": 9,
   "metadata": {},
   "outputs": [],
   "source": [
    "mean_A=np.mean(out_loss)\n",
    "stdev_A=np.std(out_loss)"
   ]
  },
  {
   "cell_type": "markdown",
   "metadata": {},
   "source": [
    "\n",
    "\n",
    "\n",
    "\n",
    "\n",
    "\n",
    "\n",
    "\n",
    "\n",
    "\n",
    "\n",
    "For a better understanding of what the history of the training did, here is a plot:"
   ]
  },
  {
   "cell_type": "code",
   "execution_count": 13,
   "metadata": {},
   "outputs": [
    {
     "data": {
      "text/plain": [
       "<matplotlib.legend.Legend at 0x7f635471c278>"
      ]
     },
     "execution_count": 13,
     "metadata": {},
     "output_type": "execute_result"
    },
    {
     "data": {
      "image/png": "[encoded data removed]",
      "text/plain": [
       "<Figure size 432x288 with 1 Axes>"
      ]
     },
     "metadata": {
      "needs_background": "light"
     },
     "output_type": "display_data"
    }
   ],
   "source": [
    "import matplotlib.pyplot as plt\n",
    "%matplotlib inline\n",
    "plt.plot(range(1,51),out_loss,'r')\n",
    "plt.plot([1, 51],[mean_A, mean_A],'b')\n",
    "plt.fill_between([1, 51],[mean_A-1*stdev_A, mean_A-1*stdev_A],[mean_A+1*stdev_A, mean_A+1*stdev_A], alpha=0.10)\n",
    "plt.legend(('Losses','Mean of Loasses', '+/- 1xStd of Losses'))"
   ]
  },
  {
   "cell_type": "markdown",
   "metadata": {},
   "source": [
    "## Conclusion"
   ]
  },
  {
   "cell_type": "markdown",
   "metadata": {},
   "source": [
    "There is a hint that the losses are growing towards the end of the 50 repetitions, will most of the final 15 outputs being above average.\n",
    "\n",
    "The final numbers are:"
   ]
  },
  {
   "cell_type": "code",
   "execution_count": 11,
   "metadata": {},
   "outputs": [
    {
     "name": "stdout",
     "output_type": "stream",
     "text": [
      "The mean of the mean squared errors is: : 59.55\n",
      "The standard deviation of the mean squared errors is: : 3.30\n"
     ]
    }
   ],
   "source": [
    "print(\"The mean of the mean squared errors is: : %.2f\" % mean_A)\n",
    "print(\"The standard deviation of the mean squared errors is: : %.2f\" % stdev_A)"
   ]
  },
  {
   "cell_type": "code",
   "execution_count": null,
   "metadata": {},
   "outputs": [],
   "source": []
  }
 ],
 "metadata": {
  "kernelspec": {
   "display_name": "Python",
   "language": "python",
   "name": "conda-env-python-py"
  },
  "language_info": {
   "codemirror_mode": {
    "name": "ipython",
    "version": 3
   },
   "file_extension": ".py",
   "mimetype": "text/x-python",
   "name": "python",
   "nbconvert_exporter": "python",
   "pygments_lexer": "ipython3",
   "version": "3.6.10"
  }
 },
 "nbformat": 4,
 "nbformat_minor": 4
}
