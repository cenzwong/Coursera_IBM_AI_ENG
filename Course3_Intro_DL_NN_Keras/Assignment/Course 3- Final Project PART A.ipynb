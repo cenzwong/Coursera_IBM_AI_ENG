{
 "cells": [
  {
   "cell_type": "markdown",
   "metadata": {},
   "source": [
    "# Part A\n",
    "Build a baseline model (5 marks). Use the Keras library to build a neural network with the following:\n",
    "\n",
    "- One hidden layer of 10 nodes, and a ReLU activation function\n",
    "\n",
    "- Use the adam optimizer and the mean squared error as the loss function.\n",
    "\n",
    "1. Randomly split the data into a training and test sets by holding 30% of the data for testing. You can use the train_test_split helper function from Scikit-learn.\n",
    "2. Train the model on the training data using 50 epochs.\n",
    "3. Evaluate the model on the test data and compute the mean squared error between the predicted concrete strength and the actual concrete strength. You can use the mean_squared_error function from Scikit-learn.\n",
    "4. Repeat steps 1 - 3, 50 times, i.e., create a list of 50 mean squared errors.\n",
    "5. Report the mean and the standard deviation of the mean squared errors."
   ]
  },
  {
   "cell_type": "markdown",
   "metadata": {},
   "source": [
    "## Overall Findings\n",
    "<div class=\"alert alert-block alert-info\" style=\"margin-top: 20px\">\n",
    "\n",
    "### Summary of mean and standard deviation of MSE \n",
    "\n",
    "|            *              |  Part A  |  Part B  |  Part C  |  Part D  |\n",
    "|---------------------------|----------|----------|----------|----------|\n",
    "| Mean of MSE               | 265.3690   | 904.2639    | 630.1834  | 321.6400 |\n",
    "| Standard Deviation of MSE | 169.2189  | 362.2746   | 461.4690 | 357.9270 |\n",
    "    \n",
    "\n",
    "\n",
    "Mean and standard deviation of MSE for the model built in Part A are 265. 37 and 169.22 respectively - lower than those found in Parts B, C and D.\n",
    "\n",
    "</div>"
   ]
  },
  {
   "cell_type": "code",
   "execution_count": 1,
   "metadata": {},
   "outputs": [],
   "source": [
    "import pandas as pd\n",
    "import numpy as np"
   ]
  },
  {
   "cell_type": "code",
   "execution_count": 2,
   "metadata": {},
   "outputs": [
    {
     "data": {
      "text/html": [
       "<div>\n",
       "<style scoped>\n",
       "    .dataframe tbody tr th:only-of-type {\n",
       "        vertical-align: middle;\n",
       "    }\n",
       "\n",
       "    .dataframe tbody tr th {\n",
       "        vertical-align: top;\n",
       "    }\n",
       "\n",
       "    .dataframe thead th {\n",
       "        text-align: right;\n",
       "    }\n",
       "</style>\n",
       "<table border=\"1\" class=\"dataframe\">\n",
       "  <thead>\n",
       "    <tr style=\"text-align: right;\">\n",
       "      <th></th>\n",
       "      <th>Cement</th>\n",
       "      <th>Blast Furnace Slag</th>\n",
       "      <th>Fly Ash</th>\n",
       "      <th>Water</th>\n",
       "      <th>Superplasticizer</th>\n",
       "      <th>Coarse Aggregate</th>\n",
       "      <th>Fine Aggregate</th>\n",
       "      <th>Age</th>\n",
       "      <th>Strength</th>\n",
       "    </tr>\n",
       "  </thead>\n",
       "  <tbody>\n",
       "    <tr>\n",
       "      <th>0</th>\n",
       "      <td>540.0</td>\n",
       "      <td>0.0</td>\n",
       "      <td>0.0</td>\n",
       "      <td>162.0</td>\n",
       "      <td>2.5</td>\n",
       "      <td>1040.0</td>\n",
       "      <td>676.0</td>\n",
       "      <td>28</td>\n",
       "      <td>79.99</td>\n",
       "    </tr>\n",
       "    <tr>\n",
       "      <th>1</th>\n",
       "      <td>540.0</td>\n",
       "      <td>0.0</td>\n",
       "      <td>0.0</td>\n",
       "      <td>162.0</td>\n",
       "      <td>2.5</td>\n",
       "      <td>1055.0</td>\n",
       "      <td>676.0</td>\n",
       "      <td>28</td>\n",
       "      <td>61.89</td>\n",
       "    </tr>\n",
       "    <tr>\n",
       "      <th>2</th>\n",
       "      <td>332.5</td>\n",
       "      <td>142.5</td>\n",
       "      <td>0.0</td>\n",
       "      <td>228.0</td>\n",
       "      <td>0.0</td>\n",
       "      <td>932.0</td>\n",
       "      <td>594.0</td>\n",
       "      <td>270</td>\n",
       "      <td>40.27</td>\n",
       "    </tr>\n",
       "    <tr>\n",
       "      <th>3</th>\n",
       "      <td>332.5</td>\n",
       "      <td>142.5</td>\n",
       "      <td>0.0</td>\n",
       "      <td>228.0</td>\n",
       "      <td>0.0</td>\n",
       "      <td>932.0</td>\n",
       "      <td>594.0</td>\n",
       "      <td>365</td>\n",
       "      <td>41.05</td>\n",
       "    </tr>\n",
       "    <tr>\n",
       "      <th>4</th>\n",
       "      <td>198.6</td>\n",
       "      <td>132.4</td>\n",
       "      <td>0.0</td>\n",
       "      <td>192.0</td>\n",
       "      <td>0.0</td>\n",
       "      <td>978.4</td>\n",
       "      <td>825.5</td>\n",
       "      <td>360</td>\n",
       "      <td>44.30</td>\n",
       "    </tr>\n",
       "  </tbody>\n",
       "</table>\n",
       "</div>"
      ],
      "text/plain": [
       "   Cement  Blast Furnace Slag  Fly Ash  Water  Superplasticizer  \\\n",
       "0   540.0                 0.0      0.0  162.0               2.5   \n",
       "1   540.0                 0.0      0.0  162.0               2.5   \n",
       "2   332.5               142.5      0.0  228.0               0.0   \n",
       "3   332.5               142.5      0.0  228.0               0.0   \n",
       "4   198.6               132.4      0.0  192.0               0.0   \n",
       "\n",
       "   Coarse Aggregate  Fine Aggregate  Age  Strength  \n",
       "0            1040.0           676.0   28     79.99  \n",
       "1            1055.0           676.0   28     61.89  \n",
       "2             932.0           594.0  270     40.27  \n",
       "3             932.0           594.0  365     41.05  \n",
       "4             978.4           825.5  360     44.30  "
      ]
     },
     "execution_count": 2,
     "metadata": {},
     "output_type": "execute_result"
    }
   ],
   "source": [
    "concrete_data = pd.read_csv('https://s3-api.us-geo.objectstorage.softlayer.net/cf-courses-data/CognitiveClass/DL0101EN/labs/data/concrete_data.csv')\n",
    "concrete_data.head()"
   ]
  },
  {
   "cell_type": "code",
   "execution_count": 3,
   "metadata": {},
   "outputs": [
    {
     "data": {
      "text/plain": [
       "(1030, 9)"
      ]
     },
     "execution_count": 3,
     "metadata": {},
     "output_type": "execute_result"
    }
   ],
   "source": [
    "#Check number of data points\n",
    "concrete_data.shape"
   ]
  },
  {
   "cell_type": "code",
   "execution_count": 4,
   "metadata": {},
   "outputs": [
    {
     "data": {
      "text/html": [
       "<div>\n",
       "<style scoped>\n",
       "    .dataframe tbody tr th:only-of-type {\n",
       "        vertical-align: middle;\n",
       "    }\n",
       "\n",
       "    .dataframe tbody tr th {\n",
       "        vertical-align: top;\n",
       "    }\n",
       "\n",
       "    .dataframe thead th {\n",
       "        text-align: right;\n",
       "    }\n",
       "</style>\n",
       "<table border=\"1\" class=\"dataframe\">\n",
       "  <thead>\n",
       "    <tr style=\"text-align: right;\">\n",
       "      <th></th>\n",
       "      <th>Cement</th>\n",
       "      <th>Blast Furnace Slag</th>\n",
       "      <th>Fly Ash</th>\n",
       "      <th>Water</th>\n",
       "      <th>Superplasticizer</th>\n",
       "      <th>Coarse Aggregate</th>\n",
       "      <th>Fine Aggregate</th>\n",
       "      <th>Age</th>\n",
       "      <th>Strength</th>\n",
       "    </tr>\n",
       "  </thead>\n",
       "  <tbody>\n",
       "    <tr>\n",
       "      <th>count</th>\n",
       "      <td>1030.000000</td>\n",
       "      <td>1030.000000</td>\n",
       "      <td>1030.000000</td>\n",
       "      <td>1030.000000</td>\n",
       "      <td>1030.000000</td>\n",
       "      <td>1030.000000</td>\n",
       "      <td>1030.000000</td>\n",
       "      <td>1030.000000</td>\n",
       "      <td>1030.000000</td>\n",
       "    </tr>\n",
       "    <tr>\n",
       "      <th>mean</th>\n",
       "      <td>281.167864</td>\n",
       "      <td>73.895825</td>\n",
       "      <td>54.188350</td>\n",
       "      <td>181.567282</td>\n",
       "      <td>6.204660</td>\n",
       "      <td>972.918932</td>\n",
       "      <td>773.580485</td>\n",
       "      <td>45.662136</td>\n",
       "      <td>35.817961</td>\n",
       "    </tr>\n",
       "    <tr>\n",
       "      <th>std</th>\n",
       "      <td>104.506364</td>\n",
       "      <td>86.279342</td>\n",
       "      <td>63.997004</td>\n",
       "      <td>21.354219</td>\n",
       "      <td>5.973841</td>\n",
       "      <td>77.753954</td>\n",
       "      <td>80.175980</td>\n",
       "      <td>63.169912</td>\n",
       "      <td>16.705742</td>\n",
       "    </tr>\n",
       "    <tr>\n",
       "      <th>min</th>\n",
       "      <td>102.000000</td>\n",
       "      <td>0.000000</td>\n",
       "      <td>0.000000</td>\n",
       "      <td>121.800000</td>\n",
       "      <td>0.000000</td>\n",
       "      <td>801.000000</td>\n",
       "      <td>594.000000</td>\n",
       "      <td>1.000000</td>\n",
       "      <td>2.330000</td>\n",
       "    </tr>\n",
       "    <tr>\n",
       "      <th>25%</th>\n",
       "      <td>192.375000</td>\n",
       "      <td>0.000000</td>\n",
       "      <td>0.000000</td>\n",
       "      <td>164.900000</td>\n",
       "      <td>0.000000</td>\n",
       "      <td>932.000000</td>\n",
       "      <td>730.950000</td>\n",
       "      <td>7.000000</td>\n",
       "      <td>23.710000</td>\n",
       "    </tr>\n",
       "    <tr>\n",
       "      <th>50%</th>\n",
       "      <td>272.900000</td>\n",
       "      <td>22.000000</td>\n",
       "      <td>0.000000</td>\n",
       "      <td>185.000000</td>\n",
       "      <td>6.400000</td>\n",
       "      <td>968.000000</td>\n",
       "      <td>779.500000</td>\n",
       "      <td>28.000000</td>\n",
       "      <td>34.445000</td>\n",
       "    </tr>\n",
       "    <tr>\n",
       "      <th>75%</th>\n",
       "      <td>350.000000</td>\n",
       "      <td>142.950000</td>\n",
       "      <td>118.300000</td>\n",
       "      <td>192.000000</td>\n",
       "      <td>10.200000</td>\n",
       "      <td>1029.400000</td>\n",
       "      <td>824.000000</td>\n",
       "      <td>56.000000</td>\n",
       "      <td>46.135000</td>\n",
       "    </tr>\n",
       "    <tr>\n",
       "      <th>max</th>\n",
       "      <td>540.000000</td>\n",
       "      <td>359.400000</td>\n",
       "      <td>200.100000</td>\n",
       "      <td>247.000000</td>\n",
       "      <td>32.200000</td>\n",
       "      <td>1145.000000</td>\n",
       "      <td>992.600000</td>\n",
       "      <td>365.000000</td>\n",
       "      <td>82.600000</td>\n",
       "    </tr>\n",
       "  </tbody>\n",
       "</table>\n",
       "</div>"
      ],
      "text/plain": [
       "            Cement  Blast Furnace Slag      Fly Ash        Water  \\\n",
       "count  1030.000000         1030.000000  1030.000000  1030.000000   \n",
       "mean    281.167864           73.895825    54.188350   181.567282   \n",
       "std     104.506364           86.279342    63.997004    21.354219   \n",
       "min     102.000000            0.000000     0.000000   121.800000   \n",
       "25%     192.375000            0.000000     0.000000   164.900000   \n",
       "50%     272.900000           22.000000     0.000000   185.000000   \n",
       "75%     350.000000          142.950000   118.300000   192.000000   \n",
       "max     540.000000          359.400000   200.100000   247.000000   \n",
       "\n",
       "       Superplasticizer  Coarse Aggregate  Fine Aggregate          Age  \\\n",
       "count       1030.000000       1030.000000     1030.000000  1030.000000   \n",
       "mean           6.204660        972.918932      773.580485    45.662136   \n",
       "std            5.973841         77.753954       80.175980    63.169912   \n",
       "min            0.000000        801.000000      594.000000     1.000000   \n",
       "25%            0.000000        932.000000      730.950000     7.000000   \n",
       "50%            6.400000        968.000000      779.500000    28.000000   \n",
       "75%           10.200000       1029.400000      824.000000    56.000000   \n",
       "max           32.200000       1145.000000      992.600000   365.000000   \n",
       "\n",
       "          Strength  \n",
       "count  1030.000000  \n",
       "mean     35.817961  \n",
       "std      16.705742  \n",
       "min       2.330000  \n",
       "25%      23.710000  \n",
       "50%      34.445000  \n",
       "75%      46.135000  \n",
       "max      82.600000  "
      ]
     },
     "execution_count": 4,
     "metadata": {},
     "output_type": "execute_result"
    }
   ],
   "source": [
    "#Statistical description of data\n",
    "concrete_data.describe()\n"
   ]
  },
  {
   "cell_type": "code",
   "execution_count": 5,
   "metadata": {},
   "outputs": [],
   "source": [
    "#Split data into predictors & target\n",
    "concrete_data_columns = concrete_data.columns\n",
    "\n",
    "predictors = concrete_data[concrete_data_columns[concrete_data_columns != 'Strength']] # all columns except Strength\n",
    "target = concrete_data['Strength'] # Strength column"
   ]
  },
  {
   "cell_type": "code",
   "execution_count": 6,
   "metadata": {},
   "outputs": [
    {
     "data": {
      "text/html": [
       "<div>\n",
       "<style scoped>\n",
       "    .dataframe tbody tr th:only-of-type {\n",
       "        vertical-align: middle;\n",
       "    }\n",
       "\n",
       "    .dataframe tbody tr th {\n",
       "        vertical-align: top;\n",
       "    }\n",
       "\n",
       "    .dataframe thead th {\n",
       "        text-align: right;\n",
       "    }\n",
       "</style>\n",
       "<table border=\"1\" class=\"dataframe\">\n",
       "  <thead>\n",
       "    <tr style=\"text-align: right;\">\n",
       "      <th></th>\n",
       "      <th>Cement</th>\n",
       "      <th>Blast Furnace Slag</th>\n",
       "      <th>Fly Ash</th>\n",
       "      <th>Water</th>\n",
       "      <th>Superplasticizer</th>\n",
       "      <th>Coarse Aggregate</th>\n",
       "      <th>Fine Aggregate</th>\n",
       "      <th>Age</th>\n",
       "    </tr>\n",
       "  </thead>\n",
       "  <tbody>\n",
       "    <tr>\n",
       "      <th>0</th>\n",
       "      <td>540.0</td>\n",
       "      <td>0.0</td>\n",
       "      <td>0.0</td>\n",
       "      <td>162.0</td>\n",
       "      <td>2.5</td>\n",
       "      <td>1040.0</td>\n",
       "      <td>676.0</td>\n",
       "      <td>28</td>\n",
       "    </tr>\n",
       "    <tr>\n",
       "      <th>1</th>\n",
       "      <td>540.0</td>\n",
       "      <td>0.0</td>\n",
       "      <td>0.0</td>\n",
       "      <td>162.0</td>\n",
       "      <td>2.5</td>\n",
       "      <td>1055.0</td>\n",
       "      <td>676.0</td>\n",
       "      <td>28</td>\n",
       "    </tr>\n",
       "    <tr>\n",
       "      <th>2</th>\n",
       "      <td>332.5</td>\n",
       "      <td>142.5</td>\n",
       "      <td>0.0</td>\n",
       "      <td>228.0</td>\n",
       "      <td>0.0</td>\n",
       "      <td>932.0</td>\n",
       "      <td>594.0</td>\n",
       "      <td>270</td>\n",
       "    </tr>\n",
       "    <tr>\n",
       "      <th>3</th>\n",
       "      <td>332.5</td>\n",
       "      <td>142.5</td>\n",
       "      <td>0.0</td>\n",
       "      <td>228.0</td>\n",
       "      <td>0.0</td>\n",
       "      <td>932.0</td>\n",
       "      <td>594.0</td>\n",
       "      <td>365</td>\n",
       "    </tr>\n",
       "    <tr>\n",
       "      <th>4</th>\n",
       "      <td>198.6</td>\n",
       "      <td>132.4</td>\n",
       "      <td>0.0</td>\n",
       "      <td>192.0</td>\n",
       "      <td>0.0</td>\n",
       "      <td>978.4</td>\n",
       "      <td>825.5</td>\n",
       "      <td>360</td>\n",
       "    </tr>\n",
       "  </tbody>\n",
       "</table>\n",
       "</div>"
      ],
      "text/plain": [
       "   Cement  Blast Furnace Slag  Fly Ash  Water  Superplasticizer  \\\n",
       "0   540.0                 0.0      0.0  162.0               2.5   \n",
       "1   540.0                 0.0      0.0  162.0               2.5   \n",
       "2   332.5               142.5      0.0  228.0               0.0   \n",
       "3   332.5               142.5      0.0  228.0               0.0   \n",
       "4   198.6               132.4      0.0  192.0               0.0   \n",
       "\n",
       "   Coarse Aggregate  Fine Aggregate  Age  \n",
       "0            1040.0           676.0   28  \n",
       "1            1055.0           676.0   28  \n",
       "2             932.0           594.0  270  \n",
       "3             932.0           594.0  365  \n",
       "4             978.4           825.5  360  "
      ]
     },
     "execution_count": 6,
     "metadata": {},
     "output_type": "execute_result"
    }
   ],
   "source": [
    "#Check Predictors\n",
    "predictors.head()"
   ]
  },
  {
   "cell_type": "code",
   "execution_count": 7,
   "metadata": {},
   "outputs": [
    {
     "data": {
      "text/plain": [
       "0    79.99\n",
       "1    61.89\n",
       "2    40.27\n",
       "3    41.05\n",
       "4    44.30\n",
       "Name: Strength, dtype: float64"
      ]
     },
     "execution_count": 7,
     "metadata": {},
     "output_type": "execute_result"
    }
   ],
   "source": [
    "#Check target\n",
    "target.head()"
   ]
  },
  {
   "cell_type": "code",
   "execution_count": 8,
   "metadata": {},
   "outputs": [],
   "source": [
    "#number of predictors\n",
    "ncols = predictors.shape[1] "
   ]
  },
  {
   "cell_type": "markdown",
   "metadata": {},
   "source": [
    "## 1. Randomly split the data into a training (70%) & test set (30%)\n"
   ]
  },
  {
   "cell_type": "code",
   "execution_count": 9,
   "metadata": {},
   "outputs": [],
   "source": [
    "from sklearn.model_selection import train_test_split\n",
    "X_train, X_test, y_train, y_test = train_test_split(predictors, target, test_size=0.3, random_state=42)"
   ]
  },
  {
   "cell_type": "markdown",
   "metadata": {},
   "source": [
    "## 2. Compute the mean squared error between the predicted and actual concrete strength. \n",
    "Here, Keras backend was used to calculate mean_squared_error at the end of each batch/epoch"
   ]
  },
  {
   "cell_type": "code",
   "execution_count": 10,
   "metadata": {},
   "outputs": [
    {
     "name": "stderr",
     "output_type": "stream",
     "text": [
      "Using TensorFlow backend.\n"
     ]
    }
   ],
   "source": [
    "#Compute the mean squared error between the predicted and actual concrete strength\n",
    "import keras.backend as K\n",
    "\n",
    "def mse(y_true, y_pred):\n",
    "    return K.mean(K.square(y_true - y_pred))"
   ]
  },
  {
   "cell_type": "markdown",
   "metadata": {},
   "source": [
    "## 3. Build a neural network with:\n",
    "- Hidden Layer: 1\n",
    "- Nodes in hidden layer: 10\n",
    "- Activation function: ReLU\n",
    "- Optimizer: adam\n",
    "- Loss Function: mean squared error"
   ]
  },
  {
   "cell_type": "code",
   "execution_count": 11,
   "metadata": {},
   "outputs": [],
   "source": [
    "#Build a Neural Network\n",
    "import keras\n",
    "from keras.models import Sequential\n",
    "from keras.layers import Dense\n",
    "\n",
    "# define regression model\n",
    "def regression_model():\n",
    "    # create model\n",
    "    model = Sequential()\n",
    "    model.add(Dense(10, activation='relu', input_shape=(ncols,)))\n",
    "    model.add(Dense(1))\n",
    "\n",
    "    # compile model\n",
    "    model.compile(optimizer='adam', loss='mean_squared_error', metrics=[mse])\n",
    "    return model"
   ]
  },
  {
   "cell_type": "code",
   "execution_count": 12,
   "metadata": {
    "scrolled": true
   },
   "outputs": [
    {
     "name": "stdout",
     "output_type": "stream",
     "text": [
      "WARNING:tensorflow:From /opt/conda/envs/Python36/lib/python3.6/site-packages/tensorflow/python/framework/op_def_library.py:263: colocate_with (from tensorflow.python.framework.ops) is deprecated and will be removed in a future version.\n",
      "Instructions for updating:\n",
      "Colocations handled automatically by placer.\n"
     ]
    }
   ],
   "source": [
    "# build the model\n",
    "model = regression_model()"
   ]
  },
  {
   "cell_type": "markdown",
   "metadata": {},
   "source": [
    "## 4. Model training and Evaluation\n",
    "Train the model on the the training data using 50 epochs. Evaluate the model on the test data "
   ]
  },
  {
   "cell_type": "code",
   "execution_count": 13,
   "metadata": {},
   "outputs": [
    {
     "name": "stdout",
     "output_type": "stream",
     "text": [
      "WARNING:tensorflow:From /opt/conda/envs/Python36/lib/python3.6/site-packages/tensorflow/python/ops/math_ops.py:3066: to_int32 (from tensorflow.python.ops.math_ops) is deprecated and will be removed in a future version.\n",
      "Instructions for updating:\n",
      "Use tf.cast instead.\n",
      "Train on 721 samples, validate on 309 samples\n",
      "Epoch 1/50\n",
      " - 2s - loss: 2438.1230 - mse: 2438.1230 - val_loss: 1193.5552 - val_mse: 1193.5552\n",
      "Epoch 2/50\n",
      " - 1s - loss: 1165.7666 - mse: 1165.7666 - val_loss: 717.7578 - val_mse: 717.7578\n",
      "Epoch 3/50\n",
      " - 1s - loss: 740.8171 - mse: 740.8171 - val_loss: 521.5794 - val_mse: 521.5794\n",
      "Epoch 4/50\n",
      " - 2s - loss: 577.7057 - mse: 577.7057 - val_loss: 428.1053 - val_mse: 428.1053\n",
      "Epoch 5/50\n",
      " - 2s - loss: 484.2822 - mse: 484.2822 - val_loss: 381.8312 - val_mse: 381.8312\n",
      "Epoch 6/50\n",
      " - 5s - loss: 428.7229 - mse: 428.7229 - val_loss: 358.9429 - val_mse: 358.9429\n",
      "Epoch 7/50\n",
      " - 5s - loss: 397.7924 - mse: 397.7924 - val_loss: 339.9032 - val_mse: 339.9032\n",
      "Epoch 8/50\n",
      " - 1s - loss: 374.6585 - mse: 374.6585 - val_loss: 326.8832 - val_mse: 326.8832\n",
      "Epoch 9/50\n",
      " - 1s - loss: 357.6180 - mse: 357.6180 - val_loss: 316.8081 - val_mse: 316.8081\n",
      "Epoch 10/50\n",
      " - 1s - loss: 344.0918 - mse: 344.0918 - val_loss: 306.8536 - val_mse: 306.8536\n",
      "Epoch 11/50\n",
      " - 1s - loss: 332.9133 - mse: 332.9133 - val_loss: 298.5996 - val_mse: 298.5996\n",
      "Epoch 12/50\n",
      " - 5s - loss: 323.3415 - mse: 323.3415 - val_loss: 291.4532 - val_mse: 291.4532\n",
      "Epoch 13/50\n",
      " - 6s - loss: 315.6229 - mse: 315.6229 - val_loss: 284.4250 - val_mse: 284.4250\n",
      "Epoch 14/50\n",
      " - 1s - loss: 306.6316 - mse: 306.6316 - val_loss: 278.4413 - val_mse: 278.4413\n",
      "Epoch 15/50\n",
      " - 1s - loss: 299.1159 - mse: 299.1159 - val_loss: 272.7385 - val_mse: 272.7385\n",
      "Epoch 16/50\n",
      " - 1s - loss: 292.5960 - mse: 292.5960 - val_loss: 267.5390 - val_mse: 267.5390\n",
      "Epoch 17/50\n",
      " - 1s - loss: 285.6975 - mse: 285.6975 - val_loss: 262.4843 - val_mse: 262.4843\n",
      "Epoch 18/50\n",
      " - 1s - loss: 279.9279 - mse: 279.9279 - val_loss: 257.4503 - val_mse: 257.4503\n",
      "Epoch 19/50\n",
      " - 10s - loss: 274.2025 - mse: 274.2025 - val_loss: 252.6334 - val_mse: 252.6334\n",
      "Epoch 20/50\n",
      " - 1s - loss: 267.6275 - mse: 267.6275 - val_loss: 248.2858 - val_mse: 248.2858\n",
      "Epoch 21/50\n",
      " - 1s - loss: 262.5571 - mse: 262.5571 - val_loss: 243.9442 - val_mse: 243.9442\n",
      "Epoch 22/50\n",
      " - 1s - loss: 258.8983 - mse: 258.8983 - val_loss: 240.5686 - val_mse: 240.5686\n",
      "Epoch 23/50\n",
      " - 1s - loss: 253.1513 - mse: 253.1513 - val_loss: 235.4063 - val_mse: 235.4063\n",
      "Epoch 24/50\n",
      " - 7s - loss: 248.8127 - mse: 248.8127 - val_loss: 231.2248 - val_mse: 231.2248\n",
      "Epoch 25/50\n",
      " - 4s - loss: 243.9174 - mse: 243.9174 - val_loss: 227.0593 - val_mse: 227.0593\n",
      "Epoch 26/50\n",
      " - 1s - loss: 239.7137 - mse: 239.7137 - val_loss: 223.3754 - val_mse: 223.3754\n",
      "Epoch 27/50\n",
      " - 1s - loss: 235.2471 - mse: 235.2471 - val_loss: 220.4102 - val_mse: 220.4102\n",
      "Epoch 28/50\n",
      " - 1s - loss: 230.8927 - mse: 230.8927 - val_loss: 215.4590 - val_mse: 215.4590\n",
      "Epoch 29/50\n",
      " - 1s - loss: 226.1841 - mse: 226.1841 - val_loss: 211.9520 - val_mse: 211.9520\n",
      "Epoch 30/50\n",
      " - 7s - loss: 222.5364 - mse: 222.5364 - val_loss: 208.9219 - val_mse: 208.9219\n",
      "Epoch 31/50\n",
      " - 1s - loss: 217.9123 - mse: 217.9123 - val_loss: 204.1187 - val_mse: 204.1187\n",
      "Epoch 32/50\n",
      " - 1s - loss: 213.4568 - mse: 213.4568 - val_loss: 200.1259 - val_mse: 200.1259\n",
      "Epoch 33/50\n",
      " - 1s - loss: 209.1754 - mse: 209.1754 - val_loss: 196.4548 - val_mse: 196.4548\n",
      "Epoch 34/50\n",
      " - 1s - loss: 206.6601 - mse: 206.6601 - val_loss: 192.6869 - val_mse: 192.6869\n",
      "Epoch 35/50\n",
      " - 4s - loss: 200.8949 - mse: 200.8949 - val_loss: 189.0678 - val_mse: 189.0678\n",
      "Epoch 36/50\n",
      " - 7s - loss: 196.5108 - mse: 196.5108 - val_loss: 185.0113 - val_mse: 185.0113\n",
      "Epoch 37/50\n",
      " - 1s - loss: 192.4414 - mse: 192.4414 - val_loss: 181.3612 - val_mse: 181.3612\n",
      "Epoch 38/50\n",
      " - 1s - loss: 188.9185 - mse: 188.9185 - val_loss: 178.1379 - val_mse: 178.1379\n",
      "Epoch 39/50\n",
      " - 1s - loss: 185.1777 - mse: 185.1777 - val_loss: 173.9865 - val_mse: 173.9865\n",
      "Epoch 40/50\n",
      " - 1s - loss: 180.4584 - mse: 180.4584 - val_loss: 170.7174 - val_mse: 170.7174\n",
      "Epoch 41/50\n",
      " - 4s - loss: 176.6416 - mse: 176.6416 - val_loss: 167.2103 - val_mse: 167.2103\n",
      "Epoch 42/50\n",
      " - 4s - loss: 174.6805 - mse: 174.6805 - val_loss: 164.3506 - val_mse: 164.3506\n",
      "Epoch 43/50\n",
      " - 1s - loss: 168.2791 - mse: 168.2791 - val_loss: 163.9477 - val_mse: 163.9477\n",
      "Epoch 44/50\n",
      " - 1s - loss: 166.4704 - mse: 166.4704 - val_loss: 156.7483 - val_mse: 156.7483\n",
      "Epoch 45/50\n",
      " - 1s - loss: 162.0056 - mse: 162.0056 - val_loss: 154.8604 - val_mse: 154.8604\n",
      "Epoch 46/50\n",
      " - 1s - loss: 160.0053 - mse: 160.0053 - val_loss: 151.9500 - val_mse: 151.9500\n",
      "Epoch 47/50\n",
      " - 1s - loss: 155.3248 - mse: 155.3248 - val_loss: 147.4010 - val_mse: 147.4010\n",
      "Epoch 48/50\n",
      " - 1s - loss: 151.8443 - mse: 151.8443 - val_loss: 144.7179 - val_mse: 144.7179\n",
      "Epoch 49/50\n",
      " - 6s - loss: 148.5019 - mse: 148.5019 - val_loss: 141.7253 - val_mse: 141.7253\n",
      "Epoch 50/50\n",
      " - 4s - loss: 145.9621 - mse: 145.9621 - val_loss: 139.2780 - val_mse: 139.2780\n"
     ]
    }
   ],
   "source": [
    "# fit the model\n",
    "hist = model.fit(X_train, y_train, validation_data=(X_test, y_test), epochs=50, verbose=2)"
   ]
  },
  {
   "cell_type": "markdown",
   "metadata": {},
   "source": [
    "## 5. Model Evaluation\n",
    "Evaluate the model on the test data. "
   ]
  },
  {
   "cell_type": "code",
   "execution_count": 15,
   "metadata": {},
   "outputs": [
    {
     "name": "stdout",
     "output_type": "stream",
     "text": [
      "Accuracy: 139.27795131152502 \n",
      "Error: -138.27795131152502\n"
     ]
    }
   ],
   "source": [
    "score = model.evaluate(X_test, y_test, verbose=0)\n",
    "print(\"Accuracy: {} \\nError: {}\".format(score[1], 1-score[1]))"
   ]
  },
  {
   "cell_type": "markdown",
   "metadata": {},
   "source": [
    "## 6. Report the mean and standard deviation of the Mean Squared Errors (MSE)"
   ]
  },
  {
   "cell_type": "code",
   "execution_count": 18,
   "metadata": {},
   "outputs": [
    {
     "data": {
      "image/png": "[encoded data removed]",
      "text/plain": [
       "<Figure size 432x288 with 1 Axes>"
      ]
     },
     "metadata": {
      "needs_background": "light"
     },
     "output_type": "display_data"
    }
   ],
   "source": [
    "from matplotlib import pyplot\n",
    "pyplot.plot(hist.history['val_mse'])\n",
    "pyplot.xlabel('Epoch')\n",
    "pyplot.ylabel('Mean Squared Error (MSE)')\n",
    "\n",
    "pyplot.show()"
   ]
  },
  {
   "cell_type": "code",
   "execution_count": 17,
   "metadata": {},
   "outputs": [
    {
     "name": "stdout",
     "output_type": "stream",
     "text": [
      "Mean of MSE: 265.3690 \n",
      "Standard Deviation of MSE: 169.2189\n"
     ]
    }
   ],
   "source": [
    "import statistics\n",
    "mse_mean = statistics.mean(hist.history['val_mse'])\n",
    "mse_stdev = statistics.stdev(hist.history['val_mse'])\n",
    "\n",
    "print(\"Mean of MSE: {:.4f} \\nStandard Deviation of MSE: {:.4f}\".format(mse_mean, mse_stdev))"
   ]
  },
  {
   "cell_type": "markdown",
   "metadata": {},
   "source": [
    "## Overall Findings\n",
    "\n",
    "<div class=\"alert alert-block alert-info\" style=\"margin-top: 20px\">\n",
    "\n",
    "### Summary of mean and standard deviation of MSE \n",
    "\n",
    "|            *              |  Part A  |  Part B  |  Part C  |  Part D  |\n",
    "|---------------------------|----------|----------|----------|----------|\n",
    "| Mean of MSE               | 265.3690   | 904.2639    | 630.1834  | 321.6400 |\n",
    "| Standard Deviation of MSE | 169.2189  | 362.2746   | 461.4690 | 357.9270 |\n",
    "    \n",
    "</div>"
   ]
  }
 ],
 "metadata": {
  "kernelspec": {
   "display_name": "Python 3",
   "language": "python",
   "name": "python3"
  },
  "language_info": {
   "codemirror_mode": {
    "name": "ipython",
    "version": 3
   },
   "file_extension": ".py",
   "mimetype": "text/x-python",
   "name": "python",
   "nbconvert_exporter": "python",
   "pygments_lexer": "ipython3",
   "version": "3.7.1"
  }
 },
 "nbformat": 4,
 "nbformat_minor": 1
}
